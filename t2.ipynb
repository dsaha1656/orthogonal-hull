{
 "cells": [
  {
   "cell_type": "code",
   "execution_count": 1,
   "metadata": {},
   "outputs": [],
   "source": [
    "import matplotlib.pyplot as plt\n",
    "import numpy as np\n",
    "from itertools import combinations, permutations"
   ]
  },
  {
   "cell_type": "code",
   "execution_count": 2,
   "metadata": {},
   "outputs": [],
   "source": [
    "points = []\n",
    "points = [(2,0), (6,0), (6,2), (8,2), (8,5), (7,5), (7,7), (5,7), (5,9), (3,9), (3,7), (0,7), (0,2), (2,2) ]\n"
   ]
  },
  {
   "cell_type": "code",
   "execution_count": 3,
   "metadata": {},
   "outputs": [],
   "source": [
    "def makeEdges(points):\n",
    "    edges = []\n",
    "    for i in range(len(points)):\n",
    "        edges.append([points[i], points[(i+1)%len(points)]])\n",
    "    return edges\n",
    "\n",
    "def proj(x, y, p):\n",
    "    x1, y1 = x[0], x[1]\n",
    "    x2, y2 = y[0], y[1]\n",
    "    xp, yp = p[0], p[1]\n",
    "    x12 = x2 - x1\n",
    "    y12 = y2 - y1\n",
    "    dotp = x12 * (xp - x1) + y12 * (yp - y1)\n",
    "    dot12 = x12 * x12 + y12 * y12\n",
    "    if dot12:\n",
    "        coeff = dotp / dot12\n",
    "        lx = x1 + x12 * coeff\n",
    "        ly = y1 + y12 * coeff\n",
    "        return (int(lx), int(ly))\n",
    "    else:\n",
    "        return False\n",
    "\n",
    "def is_point_in_line(a, b, c, log=False):\n",
    "    if (a[0] == b[0] and c[0] == a[0]):\n",
    "        if (a[1] <= c[1] <= b[1]) or (a[1] >= c[1] >= b[1]):\n",
    "            return True\n",
    "        else:\n",
    "            return False\n",
    "    elif (a[1] == b[1] and c[1] == a[1]):\n",
    "        if (a[0] <= c[0] <= b[0]) or (a[0] >= c[0] >= b[0]):\n",
    "            return True\n",
    "        else:\n",
    "            return False\n",
    "    return False\n",
    "\n",
    "def is_in_same_axis(a, b):\n",
    "    if (a[0] == b[0] or a[1] == b[1]):\n",
    "        return True\n",
    "    return False\n",
    "\n",
    "def fallOnNoEdge(cut, edges):\n",
    "    for edge in edges:\n",
    "        if edge[0] == cut[0]:\n",
    "            if is_point_in_line(cut[0], cut[1], edge[1]):\n",
    "                return True\n",
    "        elif edge[1] == cut[0]:\n",
    "            if is_point_in_line(cut[0], cut[1], edge[0]):\n",
    "                # print(\"fallOnNoEdge:\", cut, edge)\n",
    "                return True\n",
    "        elif edge[0] == cut[1]:\n",
    "            if is_point_in_line(cut[0], cut[1], edge[1]):\n",
    "                # print(\"fallOnNoEdge:\", cut, edge)\n",
    "                return True\n",
    "        elif edge[1] == cut[1]:\n",
    "            if is_point_in_line(cut[0], cut[1], edge[0]):\n",
    "                # print(\"fallOnNoEdge:\", cut, edge)\n",
    "                return True\n",
    "    return False\n",
    "\n",
    "# find the intersection of cut lines\n",
    "def line_intersection(line1, line2):\n",
    "    xdiff = (line1[0][0] - line1[1][0], line2[0][0] - line2[1][0])\n",
    "    ydiff = (line1[0][1] - line1[1][1], line2[0][1] - line2[1][1])\n",
    "\n",
    "    def det(a, b):\n",
    "        return a[0] * b[1] - a[1] * b[0]\n",
    "\n",
    "    div = det(xdiff, ydiff)\n",
    "    if div == 0:\n",
    "        return None\n",
    "\n",
    "    d = (det(*line1), det(*line2))\n",
    "    x = det(d, xdiff) / div\n",
    "    y = det(d, ydiff) / div\n",
    "    return int(x), int(y)\n",
    "    "
   ]
  },
  {
   "cell_type": "code",
   "execution_count": 4,
   "metadata": {},
   "outputs": [],
   "source": [
    "def is_rectangle(points):    \n",
    "    def isLeftTurn(a, b, c):\n",
    "        if(a[1]==b[1]):\n",
    "            if a[0]>b[0]:\n",
    "                if b[1]<c[1]:\n",
    "                    return True\n",
    "                else:\n",
    "                    return False\n",
    "            else:\n",
    "                if b[1]>c[1]:\n",
    "                    return True\n",
    "                else:\n",
    "                    return False\n",
    "        if a[0]==b[0]:\n",
    "            if a[1]<b[1]:\n",
    "                if b[0]<c[0]:\n",
    "                    return True\n",
    "                else:\n",
    "                    return False\n",
    "            else:\n",
    "                if b[0]>c[0]:\n",
    "                    return True\n",
    "                else:\n",
    "                    return False\n",
    "    def isParallel(a, b, c):\n",
    "        if a[0]==b[0] and b[0]==c[0]:\n",
    "            return True\n",
    "        elif a[1]==b[1] and b[1]==c[1]:\n",
    "            return True\n",
    "        return False\n",
    "\n",
    "    def IsOrthogonal(a, b, c) :\n",
    "        return (b[0] - a[0]) * (b[0] - c[0]) + (b[1] - a[1]) * (b[1] - c[1]) == 0\n",
    "    \n",
    "    def hasRectangleFlow(points, log=False):\n",
    "        points = list(set(points))\n",
    "        if len(points) <4 :\n",
    "            return False\n",
    "        \n",
    "        not_reactangle = False\n",
    "\n",
    "        should_be_left_turn = isLeftTurn(points[0], points[1], points[2])\n",
    "\n",
    "        for index in range(len(points)-2):\n",
    "            if not IsOrthogonal(points[index], points[index+1], points[index+2]) :\n",
    "                if isParallel(points[index], points[index+1], points[index+2]):\n",
    "                    if log:\n",
    "                        print(\"is parallel\")\n",
    "                else:\n",
    "                    not_reactangle = True\n",
    "            if  should_be_left_turn != isLeftTurn(points[index], points[index+1], points[index+2]):\n",
    "                not_reactangle = True\n",
    "        return not not_reactangle\n",
    "\n",
    "    for comb in permutations(points, 4):\n",
    "        if hasRectangleFlow(comb):\n",
    "            # print(\"on\", comb)\n",
    "            return comb\n",
    "    return False"
   ]
  },
  {
   "cell_type": "code",
   "execution_count": 5,
   "metadata": {},
   "outputs": [],
   "source": [
    "def showAsImage(new_points, cut_lines, intersections):\n",
    "    img = np.zeros((10,10,3), np.uint8)\n",
    "    plt.clf()\n",
    "    fig = plt.figure(figsize=(10, 10))\n",
    "    \n",
    "    # showing outer points\n",
    "    x_values = []\n",
    "    y_values = []\n",
    "    for index in range(len(new_points)):\n",
    "        x =  new_points[index]\n",
    "        if(index >= len(new_points)-1):\n",
    "            y = new_points[0]\n",
    "        else:\n",
    "            y = new_points[index+1]\n",
    "        x_values = [x[0], y[0]]\n",
    "        y_values = [x[1], y[1]]\n",
    "        plt.plot(x_values, y_values, color=\"r\", marker=\"o\", linestyle=\"-\")\n",
    "\n",
    "    # showing intersections of cut lines\n",
    "    x_values = []\n",
    "    y_values = []\n",
    "    for intPoint in intersections:\n",
    "        plt.plot(intPoint[0], intPoint[1], color=\"#fff\", marker=\"o\", linestyle=\"-\")\n",
    "\n",
    "    # showing cut lines\n",
    "    x_values = []\n",
    "    y_values = []\n",
    "    for line in cut_lines:\n",
    "        x_values = [line[0][0], line[1][0]]\n",
    "        y_values = [line[0][1], line[1][1]]\n",
    "        plt.plot(x_values, y_values, color=\"g\", marker=\"\", linestyle=\"-\")\n",
    "\n",
    "    plt.imshow(img)"
   ]
  },
  {
   "cell_type": "code",
   "execution_count": 12,
   "metadata": {},
   "outputs": [
    {
     "name": "stdout",
     "output_type": "stream",
     "text": [
      "[[(2, 0), (3, 0)], [(3, 0), (5, 0)], [(5, 0), (6, 0)], [(6, 0), (6, 2)], [(6, 2), (7, 2)], [(7, 2), (8, 2)], [(8, 2), (8, 5)], [(8, 5), (7, 5)], [(7, 5), (7, 7)], [(7, 7), (6, 7)], [(6, 7), (5, 7)], [(5, 7), (5, 9)], [(5, 9), (3, 9)], [(3, 9), (3, 7)], [(3, 7), (2, 7)], [(2, 7), (0, 7)], [(0, 7), (0, 5)], [(0, 5), (0, 2)], [(0, 2), (2, 2)], [(2, 2), (2, 0)]]\n",
      "ints :  [(3, 2), (3, 5), (5, 2), (5, 5), (6, 5), (2, 5)]\n"
     ]
    },
    {
     "data": {
      "text/plain": [
       "<Figure size 432x288 with 0 Axes>"
      ]
     },
     "metadata": {},
     "output_type": "display_data"
    },
    {
     "data": {
      "image/png": "[encoded data removed]",
      "text/plain": [
       "<Figure size 720x720 with 1 Axes>"
      ]
     },
     "metadata": {
      "needs_background": "light"
     },
     "output_type": "display_data"
    }
   ],
   "source": [
    "# points = [(2,0), (6,0), (6,2), (8,2), (8,5), (7,5), (7,7), (5,7), (5,9), (3,9), (3,7), (0,7), (0,2), (2,2) ]\n",
    "cut_lines = []\n",
    "new_points = points\n",
    "edges = makeEdges(points)\n",
    "for p in points:\n",
    "    for edge in edges:\n",
    "        proj_point = proj(edge[0], edge[1], p)\n",
    "        if is_point_in_line(edge[0], edge[1], proj_point):\n",
    "            cut = [p, proj_point]\n",
    "            if p != proj_point and cut not in edges and not fallOnNoEdge(cut, edges):\n",
    "                if proj_point not in new_points:\n",
    "                    new_points.insert(new_points.index(edge[0])+1, proj_point)\n",
    "                cut_lines.append([p, proj_point])\n",
    "    #     if new_points != []:\n",
    "    #         break\n",
    "    # if new_points != []:\n",
    "    #     break \n",
    "    \n",
    "intersections = []\n",
    "for i in range(len(cut_lines)):\n",
    "    for j in range(len(cut_lines)):\n",
    "        line1 = cut_lines[i]\n",
    "        line2 = cut_lines[j]\n",
    "        if line1 == line2 or line1[0]==line2[0] or line1[0]==line2[1] or line1[1]==line2[0] or line1[1]==line2[1]:\n",
    "            continue\n",
    "        int_point = line_intersection(line1, line2)\n",
    "        if int_point is not None and int_point not in intersections and int_point not in new_points:\n",
    "            intersections.append(int_point)\n",
    "\n",
    "print(edges)\n",
    "print(\"ints : \", intersections)\n",
    "\n",
    "showAsImage(new_points, cut_lines, intersections)"
   ]
  },
  {
   "cell_type": "code",
   "execution_count": 13,
   "metadata": {},
   "outputs": [
    {
     "data": {
      "text/plain": [
       "22"
      ]
     },
     "execution_count": 13,
     "metadata": {},
     "output_type": "execute_result"
    }
   ],
   "source": [
    "len(cut_lines)"
   ]
  },
  {
   "cell_type": "code",
   "execution_count": 31,
   "metadata": {},
   "outputs": [
    {
     "data": {
      "text/plain": [
       "((2, 7), (2, 2), (5, 7), (5, 2))"
      ]
     },
     "execution_count": 31,
     "metadata": {},
     "output_type": "execute_result"
    }
   ],
   "source": [
    "tmp_p = [(2,7), (2,2), (5,7), (5, 2)]\n",
    "is_rectangle(tmp_p)"
   ]
  },
  {
   "cell_type": "code",
   "execution_count": 21,
   "metadata": {},
   "outputs": [
    {
     "name": "stdout",
     "output_type": "stream",
     "text": [
      "First combination:  ((2, 0), (3, 0), (6, 0), (2, 2))\n",
      "First combination:  ((2, 0), (3, 0), (6, 0), (2, 5))\n",
      "First combination:  ((2, 0), (3, 0), (8, 2), (2, 2))\n",
      "First combination:  ((2, 0), (3, 0), (7, 5), (2, 5))\n",
      "First combination:  ((2, 0), (3, 0), (0, 5), (3, 5))\n",
      "First combination:  ((2, 0), (3, 0), (2, 2), (6, 0))\n",
      "First combination:  ((2, 0), (3, 0), (2, 2), (8, 2))\n",
      "First combination:  ((2, 0), (3, 0), (2, 2), (2, 5))\n",
      "First combination:  ((2, 0), (3, 0), (3, 5), (0, 5))\n",
      "First combination:  ((2, 0), (3, 0), (5, 5), (2, 5))\n",
      "First combination:  ((2, 0), (3, 0), (2, 5), (6, 0))\n",
      "First combination:  ((2, 0), (3, 0), (2, 5), (7, 5))\n",
      "First combination:  ((2, 0), (3, 0), (2, 5), (2, 2))\n",
      "First combination:  ((2, 0), (3, 0), (2, 5), (5, 5))\n",
      "First combination:  ((2, 0), (5, 0), (7, 5), (2, 5))\n",
      "First combination:  ((2, 0), (5, 0), (5, 7), (2, 7))\n",
      "First combination:  ((2, 0), (5, 0), (5, 7), (5, 2))\n",
      "First combination:  ((2, 0), (5, 0), (5, 9), (2, 7))\n",
      "First combination:  ((2, 0), (5, 0), (5, 9), (2, 2))\n",
      "First combination:  ((2, 0), (5, 0), (2, 7), (5, 7))\n",
      "First combination:  ((2, 0), (5, 0), (2, 7), (5, 9))\n",
      "First combination:  ((2, 0), (5, 0), (2, 2), (5, 9))\n",
      "First combination:  ((2, 0), (5, 0), (2, 2), (5, 2))\n",
      "First combination:  ((2, 0), (5, 0), (5, 2), (5, 7))\n",
      "First combination:  ((2, 0), (5, 0), (5, 2), (2, 2))\n",
      "First combination:  ((2, 0), (5, 0), (5, 5), (2, 5))\n",
      "First combination:  ((2, 0), (5, 0), (2, 5), (7, 5))\n",
      "First combination:  ((2, 0), (5, 0), (2, 5), (5, 5))\n",
      "First combination:  ((2, 0), (6, 0), (3, 0), (2, 2))\n",
      "First combination:  ((2, 0), (6, 0), (3, 0), (2, 5))\n",
      "First combination:  ((2, 0), (6, 0), (6, 2), (2, 2))\n",
      "First combination:  ((2, 0), (6, 0), (8, 2), (2, 2))\n",
      "First combination:  ((2, 0), (6, 0), (7, 5), (2, 5))\n",
      "First combination:  ((2, 0), (6, 0), (6, 7), (2, 2))\n",
      "First combination:  ((2, 0), (6, 0), (2, 2), (3, 0))\n",
      "First combination:  ((2, 0), (6, 0), (2, 2), (6, 2))\n",
      "First combination:  ((2, 0), (6, 0), (2, 2), (8, 2))\n",
      "First combination:  ((2, 0), (6, 0), (2, 2), (6, 7))\n",
      "First combination:  ((2, 0), (6, 0), (2, 2), (2, 5))\n",
      "First combination:  ((2, 0), (6, 0), (5, 5), (2, 5))\n",
      "First combination:  ((2, 0), (6, 0), (2, 5), (3, 0))\n",
      "First combination:  ((2, 0), (6, 0), (2, 5), (7, 5))\n",
      "First combination:  ((2, 0), (6, 0), (2, 5), (2, 2))\n",
      "First combination:  ((2, 0), (6, 0), (2, 5), (5, 5))\n",
      "First combination:  ((2, 0), (6, 2), (6, 0), (2, 2))\n",
      "First combination:  ((2, 0), (6, 2), (2, 2), (6, 0))\n",
      "First combination:  ((2, 0), (8, 2), (3, 0), (2, 2))\n",
      "First combination:  ((2, 0), (8, 2), (6, 0), (2, 2))\n",
      "First combination:  ((2, 0), (8, 2), (2, 2), (3, 0))\n",
      "First combination:  ((2, 0), (8, 2), (2, 2), (6, 0))\n",
      "First combination:  ((2, 0), (7, 5), (3, 0), (2, 5))\n",
      "First combination:  ((2, 0), (7, 5), (5, 0), (2, 5))\n",
      "First combination:  ((2, 0), (7, 5), (6, 0), (2, 5))\n",
      "First combination:  ((2, 0), (7, 5), (2, 7), (2, 5))\n",
      "First combination:  ((2, 0), (7, 5), (2, 2), (2, 5))\n",
      "First combination:  ((2, 0), (7, 5), (2, 5), (3, 0))\n",
      "First combination:  ((2, 0), (7, 5), (2, 5), (5, 0))\n",
      "First combination:  ((2, 0), (7, 5), (2, 5), (6, 0))\n",
      "First combination:  ((2, 0), (7, 5), (2, 5), (2, 7))\n",
      "First combination:  ((2, 0), (7, 5), (2, 5), (2, 2))\n",
      "First combination:  ((2, 0), (6, 7), (6, 0), (2, 2))\n",
      "First combination:  ((2, 0), (6, 7), (2, 2), (6, 0))\n",
      "First combination:  ((2, 0), (5, 7), (5, 0), (2, 7))\n",
      "First combination:  ((2, 0), (5, 7), (5, 0), (5, 2))\n",
      "First combination:  ((2, 0), (5, 7), (2, 7), (5, 0))\n",
      "First combination:  ((2, 0), (5, 7), (2, 7), (5, 2))\n",
      "First combination:  ((2, 0), (5, 7), (5, 2), (5, 0))\n",
      "First combination:  ((2, 0), (5, 7), (5, 2), (2, 7))\n",
      "First combination:  ((2, 0), (5, 9), (5, 0), (2, 7))\n",
      "First combination:  ((2, 0), (5, 9), (5, 0), (2, 2))\n",
      "First combination:  ((2, 0), (5, 9), (2, 7), (5, 0))\n",
      "First combination:  ((2, 0), (5, 9), (2, 2), (5, 0))\n",
      "First combination:  ((2, 0), (2, 7), (5, 0), (5, 7))\n",
      "First combination:  ((2, 0), (2, 7), (5, 0), (5, 9))\n",
      "First combination:  ((2, 0), (2, 7), (7, 5), (2, 5))\n",
      "First combination:  ((2, 0), (2, 7), (5, 7), (5, 0))\n",
      "First combination:  ((2, 0), (2, 7), (5, 7), (5, 2))\n",
      "First combination:  ((2, 0), (2, 7), (5, 9), (5, 0))\n",
      "First combination:  ((2, 0), (2, 7), (5, 2), (5, 7))\n",
      "First combination:  ((2, 0), (2, 7), (2, 5), (7, 5))\n",
      "First combination:  ((2, 0), (0, 5), (3, 0), (3, 5))\n",
      "First combination:  ((2, 0), (0, 5), (3, 5), (3, 0))\n",
      "First combination:  ((2, 0), (2, 2), (3, 0), (6, 0))\n",
      "First combination:  ((2, 0), (2, 2), (3, 0), (8, 2))\n",
      "First combination:  ((2, 0), (2, 2), (3, 0), (2, 5))\n",
      "First combination:  ((2, 0), (2, 2), (5, 0), (5, 9))\n",
      "First combination:  ((2, 0), (2, 2), (5, 0), (5, 2))\n",
      "First combination:  ((2, 0), (2, 2), (6, 0), (3, 0))\n",
      "First combination:  ((2, 0), (2, 2), (6, 0), (6, 2))\n",
      "First combination:  ((2, 0), (2, 2), (6, 0), (8, 2))\n",
      "First combination:  ((2, 0), (2, 2), (6, 0), (6, 7))\n",
      "First combination:  ((2, 0), (2, 2), (6, 0), (2, 5))\n",
      "First combination:  ((2, 0), (2, 2), (6, 2), (6, 0))\n",
      "First combination:  ((2, 0), (2, 2), (8, 2), (3, 0))\n",
      "First combination:  ((2, 0), (2, 2), (8, 2), (6, 0))\n",
      "First combination:  ((2, 0), (2, 2), (7, 5), (2, 5))\n",
      "First combination:  ((2, 0), (2, 2), (6, 7), (6, 0))\n",
      "First combination:  ((2, 0), (2, 2), (5, 9), (5, 0))\n"
     ]
    },
    {
     "ename": "KeyboardInterrupt",
     "evalue": "",
     "output_type": "error",
     "traceback": [
      "\u001b[0;31m---------------------------------------------------------------------------\u001b[0m",
      "\u001b[0;31mKeyboardInterrupt\u001b[0m                         Traceback (most recent call last)",
      "\u001b[1;32m/home/dibyndu/Documents/m.tech/orthogonal-hull/t2.ipynb Cell 8'\u001b[0m in \u001b[0;36m<cell line: 12>\u001b[0;34m()\u001b[0m\n\u001b[1;32m     <a href='vscode-notebook-cell:/home/dibyndu/Documents/m.tech/orthogonal-hull/t2.ipynb#ch0000009?line=14'>15</a>\u001b[0m \u001b[39mif\u001b[39;00m inSingleLine(comb):\n\u001b[1;32m     <a href='vscode-notebook-cell:/home/dibyndu/Documents/m.tech/orthogonal-hull/t2.ipynb#ch0000009?line=15'>16</a>\u001b[0m     \u001b[39mcontinue\u001b[39;00m\n\u001b[0;32m---> <a href='vscode-notebook-cell:/home/dibyndu/Documents/m.tech/orthogonal-hull/t2.ipynb#ch0000009?line=16'>17</a>\u001b[0m rectForm \u001b[39m=\u001b[39m is_rectangle(comb)\n\u001b[1;32m     <a href='vscode-notebook-cell:/home/dibyndu/Documents/m.tech/orthogonal-hull/t2.ipynb#ch0000009?line=17'>18</a>\u001b[0m \u001b[39mif\u001b[39;00m rectForm \u001b[39m!=\u001b[39m \u001b[39mFalse\u001b[39;00m:\n\u001b[1;32m     <a href='vscode-notebook-cell:/home/dibyndu/Documents/m.tech/orthogonal-hull/t2.ipynb#ch0000009?line=18'>19</a>\u001b[0m     \u001b[39mprint\u001b[39m (\u001b[39m\"\u001b[39m\u001b[39mFirst combination: \u001b[39m\u001b[39m\"\u001b[39m, comb)\n",
      "\u001b[1;32m/home/dibyndu/Documents/m.tech/orthogonal-hull/t2.ipynb Cell 4'\u001b[0m in \u001b[0;36mis_rectangle\u001b[0;34m(points)\u001b[0m\n\u001b[1;32m     <a href='vscode-notebook-cell:/home/dibyndu/Documents/m.tech/orthogonal-hull/t2.ipynb#ch0000010?line=52'>53</a>\u001b[0m     \u001b[39mreturn\u001b[39;00m \u001b[39mnot\u001b[39;00m not_reactangle\n\u001b[1;32m     <a href='vscode-notebook-cell:/home/dibyndu/Documents/m.tech/orthogonal-hull/t2.ipynb#ch0000010?line=54'>55</a>\u001b[0m \u001b[39mfor\u001b[39;00m comb \u001b[39min\u001b[39;00m permutations(points, \u001b[39m4\u001b[39m):\n\u001b[0;32m---> <a href='vscode-notebook-cell:/home/dibyndu/Documents/m.tech/orthogonal-hull/t2.ipynb#ch0000010?line=55'>56</a>\u001b[0m     \u001b[39mif\u001b[39;00m hasRectangleFlow(comb):\n\u001b[1;32m     <a href='vscode-notebook-cell:/home/dibyndu/Documents/m.tech/orthogonal-hull/t2.ipynb#ch0000010?line=56'>57</a>\u001b[0m         \u001b[39m# print(\"on\", comb)\u001b[39;00m\n\u001b[1;32m     <a href='vscode-notebook-cell:/home/dibyndu/Documents/m.tech/orthogonal-hull/t2.ipynb#ch0000010?line=57'>58</a>\u001b[0m         \u001b[39mreturn\u001b[39;00m comb\n\u001b[1;32m     <a href='vscode-notebook-cell:/home/dibyndu/Documents/m.tech/orthogonal-hull/t2.ipynb#ch0000010?line=58'>59</a>\u001b[0m \u001b[39mreturn\u001b[39;00m \u001b[39mFalse\u001b[39;00m\n",
      "\u001b[1;32m/home/dibyndu/Documents/m.tech/orthogonal-hull/t2.ipynb Cell 4'\u001b[0m in \u001b[0;36mis_rectangle.<locals>.hasRectangleFlow\u001b[0;34m(points, log)\u001b[0m\n\u001b[1;32m     <a href='vscode-notebook-cell:/home/dibyndu/Documents/m.tech/orthogonal-hull/t2.ipynb#ch0000010?line=43'>44</a>\u001b[0m \u001b[39mfor\u001b[39;00m index \u001b[39min\u001b[39;00m \u001b[39mrange\u001b[39m(\u001b[39mlen\u001b[39m(points)\u001b[39m-\u001b[39m\u001b[39m2\u001b[39m):\n\u001b[1;32m     <a href='vscode-notebook-cell:/home/dibyndu/Documents/m.tech/orthogonal-hull/t2.ipynb#ch0000010?line=44'>45</a>\u001b[0m     \u001b[39mif\u001b[39;00m \u001b[39mnot\u001b[39;00m IsOrthogonal(points[index], points[index\u001b[39m+\u001b[39m\u001b[39m1\u001b[39m], points[index\u001b[39m+\u001b[39m\u001b[39m2\u001b[39m]) :\n\u001b[0;32m---> <a href='vscode-notebook-cell:/home/dibyndu/Documents/m.tech/orthogonal-hull/t2.ipynb#ch0000010?line=45'>46</a>\u001b[0m         \u001b[39mif\u001b[39;00m isParallel(points[index], points[index\u001b[39m+\u001b[39;49m\u001b[39m1\u001b[39;49m], points[index\u001b[39m+\u001b[39;49m\u001b[39m2\u001b[39;49m]):\n\u001b[1;32m     <a href='vscode-notebook-cell:/home/dibyndu/Documents/m.tech/orthogonal-hull/t2.ipynb#ch0000010?line=46'>47</a>\u001b[0m             \u001b[39mif\u001b[39;00m log:\n\u001b[1;32m     <a href='vscode-notebook-cell:/home/dibyndu/Documents/m.tech/orthogonal-hull/t2.ipynb#ch0000010?line=47'>48</a>\u001b[0m                 \u001b[39mprint\u001b[39m(\u001b[39m\"\u001b[39m\u001b[39mis parallel\u001b[39m\u001b[39m\"\u001b[39m)\n",
      "\u001b[0;31mKeyboardInterrupt\u001b[0m: "
     ]
    }
   ],
   "source": [
    "\n",
    "def inSingleLine(points):\n",
    "    if len(points) < 4:\n",
    "        raise Exception(\"not enough points\")\n",
    "        return False\n",
    "    if points[0][0] == points[1][0] == points[2][0] == points[3][0]:\n",
    "        return True\n",
    "    if points[0][1] == points[1][1] == points[2][1] == points[3][1]:\n",
    "        return True\n",
    "    return False\n",
    "\n",
    "all_points = new_points + intersections\n",
    "for comb in permutations(all_points, 4):\n",
    "    # print(comb)\n",
    "    # possible_combinations.append(comb)\n",
    "    if inSingleLine(comb):\n",
    "        continue\n",
    "    rectForm = is_rectangle(comb)\n",
    "    if rectForm != False:\n",
    "        print (\"First combination: \", comb)\n",
    "        # break\n",
    "# print(all_points)"
   ]
  },
  {
   "cell_type": "code",
   "execution_count": 183,
   "metadata": {},
   "outputs": [],
   "source": [
    "all_points = new_points + intersections"
   ]
  },
  {
   "cell_type": "code",
   "execution_count": 193,
   "metadata": {},
   "outputs": [
    {
     "name": "stdout",
     "output_type": "stream",
     "text": [
      "print loop count  1\n",
      " 217/116,280 percent 0.19 % max_area:  0print loop count  2\n",
      " 472/116,280 percent 0.41 % max_area:  7.0print loop count  3\n",
      " 761/116,280 percent 0.65 % max_area:  21.0\n",
      "\n",
      "\n",
      "Found  [(2, 0), (2, 7), (6, 7), (6, 0)] on : 761  area:  28.0 \n",
      "\n",
      "\n",
      "\n",
      "print loop count  4\n",
      " 4,440/116,280 percent 3.82 % max_area:  28.0\n",
      "\n",
      "\n",
      "Found  [(2, 0), (2, 7), (6, 7), (6, 0)] on : 4440  area:  28.0 \n",
      "\n",
      "\n",
      "\n",
      " 26,264/116,280 percent 22.59 % max_area:  28.0print loop count  5\n",
      " 761/116,280 percent 0.65 % max_area:  30.0\n",
      "\n",
      "\n",
      "Found  [(2, 0), (2, 7), (6, 7), (6, 0)] on : 761  area:  28.0 \n",
      "\n",
      "\n",
      "\n",
      " 4,440/116,280 percent 3.82 % max_area:  30.0\n",
      "\n",
      "\n",
      "Found  [(2, 0), (2, 7), (6, 7), (6, 0)] on : 4440  area:  28.0 \n",
      "\n",
      "\n",
      "\n",
      " 17,672/116,280 percent 15.2 % max_area:  30.00\n",
      "\n",
      "\n",
      "Found  [(2, 0), (2, 7), (6, 7), (6, 0)] on : 17672  area:  28.0 \n",
      "\n",
      "\n",
      "\n",
      " 20,418/116,280 percent 17.56 % max_area:  30.0\n",
      "\n",
      "\n",
      "Found  [(2, 0), (2, 7), (6, 7), (6, 0)] on : 20418  area:  28.0 \n",
      "\n",
      "\n",
      "\n",
      " 31,772/116,280 percent 27.32 % max_area:  30.0print loop count  6\n",
      " 761/116,280 percent 0.65 % max_area:  35.0\n",
      "\n",
      "\n",
      "Found  [(2, 0), (2, 7), (6, 7), (6, 0)] on : 761  area:  28.0 \n",
      "\n",
      "\n",
      "\n",
      " 4,440/116,280 percent 3.82 % max_area:  35.0\n",
      "\n",
      "\n",
      "Found  [(2, 0), (2, 7), (6, 7), (6, 0)] on : 4440  area:  28.0 \n",
      "\n",
      "\n",
      "\n",
      " 17,672/116,280 percent 15.2 % max_area:  35.00\n",
      "\n",
      "\n",
      "Found  [(2, 0), (2, 7), (6, 7), (6, 0)] on : 17672  area:  28.0 \n",
      "\n",
      "\n",
      "\n",
      " 20,418/116,280 percent 17.56 % max_area:  35.0\n",
      "\n",
      "\n",
      "Found  [(2, 0), (2, 7), (6, 7), (6, 0)] on : 20418  area:  28.0 \n",
      "\n",
      "\n",
      "\n",
      " 59,071/116,280 percent 50.8 % max_area:  35.00\n",
      "\n",
      "\n",
      "Found  [(2, 0), (2, 7), (6, 7), (6, 0)] on : 59071  area:  28.0 \n",
      "\n",
      "\n",
      "\n",
      " 62,427/116,280 percent 53.69 % max_area:  35.0\n",
      "\n",
      "\n",
      "Found  [(2, 0), (2, 7), (6, 7), (6, 0)] on : 62427  area:  28.0 \n",
      "\n",
      "\n",
      "\n",
      " 87,253/116,280 percent 75.04 % max_area:  35.0\n",
      "\n",
      "\n",
      "Found  [(2, 0), (2, 7), (6, 7), (6, 0)] on : 87253  area:  28.0 \n",
      "\n",
      "\n",
      "\n",
      " 90,322/116,280 percent 77.68 % max_area:  35.0\n",
      "\n",
      "\n",
      "Found  [(2, 0), (2, 7), (6, 7), (6, 0)] on : 90322  area:  28.0 \n",
      "\n",
      "\n",
      "\n",
      " 116,280/116,280 percent 100.0 % max_area:  35.0[[(7, 2), (7, 7), (0, 7), (0, 2)], [(2, 0), (6, 0), (6, 2), (2, 2)], [(7, 2), (8, 2), (8, 5), (7, 5)], [(5, 7), (5, 9), (3, 9), (3, 7)]]\n"
     ]
    },
    {
     "data": {
      "text/plain": [
       "<Figure size 432x288 with 0 Axes>"
      ]
     },
     "metadata": {},
     "output_type": "display_data"
    },
    {
     "data": {
      "image/png": "[encoded data removed]",
      "text/plain": [
       "<Figure size 720x720 with 1 Axes>"
      ]
     },
     "metadata": {
      "needs_background": "light"
     },
     "output_type": "display_data"
    }
   ],
   "source": [
    "from shapely.geometry import Polygon\n",
    "\n",
    "\n",
    "def showAllRects(rectangles):\n",
    "    img = np.zeros((10,10,3), np.uint8)\n",
    "    plt.clf()\n",
    "    fig = plt.figure(figsize=(10, 10))\n",
    "\n",
    "    # showing outer points\n",
    "    x_values = []\n",
    "    y_values = []\n",
    "    break_at = 4\n",
    "    i = 0\n",
    "    for box in rectangles:\n",
    "        i += 1\n",
    "        if i > break_at:\n",
    "            # break\n",
    "            pass\n",
    "        # draw rectangle\n",
    "        x_values = [box[0][0], box[1][0], box[2][0], box[3][0], box[0][0]]\n",
    "        y_values = [box[0][1], box[1][1], box[2][1], box[3][1], box[0][1]]\n",
    "        plt.plot(x_values, y_values, color=\"r\", marker=\"o\", linestyle=\"-\")\n",
    "        # plt.imshow(img)\n",
    "        # break\n",
    "\n",
    "    plt.imshow(img)\n",
    "\n",
    "def hasOverLap(box1, box2):\n",
    "    poly1 = Polygon(box1)\n",
    "    poly2 = Polygon(box2)\n",
    "    return poly1.intersection(poly2).area > 0\n",
    "\n",
    "def findRetangles(all_points, rectangles=[], max_area=0):\n",
    "    # rectangles = []\n",
    "    comb_count = 0\n",
    "    perMutCombinations = permutations(all_points, 4)\n",
    "    perMutCombinations = list(perMutCombinations)\n",
    "    comb_count = len(perMutCombinations)\n",
    "    comb_count_index = 0\n",
    "    for comb in list(perMutCombinations):\n",
    "        comb_count_index += 1\n",
    "        print(\"\\r\\r\", f\"{comb_count_index:,}/{comb_count:,}\", \"percent\", round(comb_count_index*100/comb_count, 2), \"% max_area: \", max_area, end=\"\")\n",
    "        # print(\"\\r\\r {:n}/{:n}\".format(comb_count_index, comb_count), end=\"\")\n",
    "        tmp = list(comb)\n",
    "        poly = Polygon(tmp)\n",
    "        # if poly is rectangle\n",
    "        if poly.area == poly.minimum_rotated_rectangle.area and poly.area != 0:\n",
    "            box_already_entered = False\n",
    "            for b in permutations(tmp):\n",
    "                b = list(b)\n",
    "                if b in rectangles:\n",
    "                    box_already_entered = True\n",
    "                    break\n",
    "            if not box_already_entered:\n",
    "                # tmp is rectangle\n",
    "                if poly.area > max_area:\n",
    "                    return [tmp], True, poly.area\n",
    "\n",
    "                allowd_to_add = False\n",
    "                if len(rectangles) == 0:\n",
    "                    allowd_to_add = True\n",
    "                    # rectangles.append(tmp)\n",
    "                else:\n",
    "                    has_overlap = False \n",
    "                    for rect in rectangles:\n",
    "                        if hasOverLap(tmp, rect):\n",
    "                            has_overlap = True\n",
    "                            break\n",
    "                    if not has_overlap:\n",
    "                        allowd_to_add = True\n",
    "                        # rectangles.append(tmp)\n",
    "                if allowd_to_add:\n",
    "                    # if poly.area > max_area:\n",
    "                    #     return [tmp], True, poly.area\n",
    "                    rectangles.append(tmp)\n",
    "                \n",
    "    \n",
    "    return rectangles, False, max_area\n",
    "# all_points = [(0,0), (0,2), (0,4), (2,0), (2,2), (2,4), (4,0), (4,2), (4, 4)]\n",
    "max_area = 8.0\n",
    "foundNewMax = True\n",
    "# rectangles, foundNewMax, max_area = findRetangles(all_points, max_area)\n",
    "i = 0\n",
    "rectangles = [[(0, 0), (0, 2), (4, 2), (4, 0)]]\n",
    "max_area = 8.0\n",
    "rectangles = []\n",
    "max_area = 0\n",
    "all_points = new_points #+ intersections\n",
    "while foundNewMax == True:\n",
    "    i += 1\n",
    "    print(\"print loop count \", i)\n",
    "    rectangles, foundNewMax, max_area = findRetangles(all_points, rectangles, max_area)\n",
    "# rectangles, foundNewMax, max_area = findRetangles(all_points, rectangles, max_area)\n",
    "\n",
    "    # print(foundNewMax)\n",
    "print(rectangles)\n",
    "showAllRects(rectangles)"
   ]
  },
  {
   "cell_type": "code",
   "execution_count": 186,
   "metadata": {},
   "outputs": [
    {
     "data": {
      "text/plain": [
       "[[(5, 7), (3, 7), (3, 2), (5, 2)],\n",
       " [(2, 0), (3, 0), (3, 7), (2, 7)],\n",
       " [(3, 0), (5, 0), (5, 2), (3, 2)],\n",
       " [(5, 0), (6, 0), (6, 2), (5, 2)],\n",
       " [(6, 2), (7, 2), (7, 5), (6, 5)],\n",
       " [(6, 2), (6, 7), (5, 7), (5, 2)],\n",
       " [(7, 2), (8, 2), (8, 5), (7, 5)],\n",
       " [(7, 5), (7, 7), (6, 7), (6, 5)],\n",
       " [(5, 7), (5, 9), (3, 9), (3, 7)],\n",
       " [(2, 7), (0, 7), (0, 5), (2, 5)],\n",
       " [(0, 5), (0, 2), (2, 2), (2, 5)]]"
      ]
     },
     "execution_count": 186,
     "metadata": {},
     "output_type": "execute_result"
    }
   ],
   "source": [
    "rectangles"
   ]
  },
  {
   "cell_type": "code",
   "execution_count": 189,
   "metadata": {},
   "outputs": [
    {
     "data": {
      "text/plain": [
       "<Figure size 432x288 with 0 Axes>"
      ]
     },
     "metadata": {},
     "output_type": "display_data"
    },
    {
     "data": {
      "image/png": "[encoded data removed]",
      "text/plain": [
       "<Figure size 720x720 with 1 Axes>"
      ]
     },
     "metadata": {
      "needs_background": "light"
     },
     "output_type": "display_data"
    }
   ],
   "source": [
    "showAllRects(rectangles)"
   ]
  },
  {
   "cell_type": "code",
   "execution_count": 187,
   "metadata": {},
   "outputs": [
    {
     "data": {
      "text/plain": [
       "[(6, 2), (6, 7), (5, 7), (5, 2)]"
      ]
     },
     "execution_count": 187,
     "metadata": {},
     "output_type": "execute_result"
    }
   ],
   "source": [
    "rectangles[5]"
   ]
  },
  {
   "cell_type": "code",
   "execution_count": 188,
   "metadata": {},
   "outputs": [
    {
     "data": {
      "text/plain": [
       "0.0"
      ]
     },
     "execution_count": 188,
     "metadata": {},
     "output_type": "execute_result"
    }
   ],
   "source": [
    "tmp = [(6, 2), (7, 2), (8, 2), (2, 2)]\n",
    "poly = Polygon(tmp)\n",
    "# if poly is rectangle\n",
    "poly.area "
   ]
  },
  {
   "cell_type": "code",
   "execution_count": null,
   "metadata": {},
   "outputs": [],
   "source": []
  },
  {
   "cell_type": "code",
   "execution_count": 95,
   "metadata": {},
   "outputs": [
    {
     "name": "stdout",
     "output_type": "stream",
     "text": [
      "((0, 2), (2, 2), (2, 0), (0, 0))\n",
      "not entered\n"
     ]
    }
   ],
   "source": [
    "rects = [[(0, 0), (0, 2), (2, 2), (2, 0)]]\n",
    "\n",
    "tmp = [(0, 2), (2, 2), (2, 0), (0, 0)]\n",
    "\n",
    "for b in permutations(tmp):\n",
    "    print(b)\n",
    "    b = list(b)\n",
    "    if b in rectangles:\n",
    "        print(\"box \", tmp, \"already entered in form of \", b)\n",
    "        break\n",
    "    if b == [(0, 2), (2, 2), (2, 0), (0, 0)]:\n",
    "        print(\"not entered\")\n",
    "        break"
   ]
  },
  {
   "cell_type": "code",
   "execution_count": 30,
   "metadata": {},
   "outputs": [
    {
     "data": {
      "text/plain": [
       "((0, 0), (0, 4), (2, 2), (2, 4))"
      ]
     },
     "execution_count": 30,
     "metadata": {},
     "output_type": "execute_result"
    }
   ],
   "source": [
    "is_rectangle([(0, 0), (0, 4), (2, 2), (2, 4)])"
   ]
  },
  {
   "cell_type": "code",
   "execution_count": 41,
   "metadata": {},
   "outputs": [
    {
     "name": "stdout",
     "output_type": "stream",
     "text": [
      "True 0.0\n"
     ]
    }
   ],
   "source": [
    "from shapely.geometry import Polygon\n",
    "p1 = Polygon([(0,0), (1,1), (1,0)])\n",
    "p2 = Polygon([(0,1), (1,0), (1,1)])\n",
    "\n",
    "p1 = Polygon([ (0,0), (0,4), (2,4), (2,0)])\n",
    "p2 = Polygon([ (2, 0), (2, 4), (4, 4), (4, 0) ])\n",
    "\n",
    "\n",
    "print(p1.intersects(p2), p1.intersection(p2).area)"
   ]
  },
  {
   "cell_type": "code",
   "execution_count": 44,
   "metadata": {},
   "outputs": [
    {
     "data": {
      "text/plain": [
       "True"
      ]
     },
     "execution_count": 44,
     "metadata": {},
     "output_type": "execute_result"
    }
   ],
   "source": [
    "p1.area == p1.minimum_rotated_rectangle.area"
   ]
  },
  {
   "cell_type": "code",
   "execution_count": 46,
   "metadata": {},
   "outputs": [
    {
     "data": {
      "text/plain": [
       "True"
      ]
     },
     "execution_count": 46,
     "metadata": {},
     "output_type": "execute_result"
    }
   ],
   "source": [
    "p2.area == p2.minimum_rotated_rectangle.area"
   ]
  },
  {
   "cell_type": "code",
   "execution_count": null,
   "metadata": {},
   "outputs": [],
   "source": []
  }
 ],
 "metadata": {
  "interpreter": {
   "hash": "b3ba2566441a7c06988d0923437866b63cedc61552a5af99d1f4fb67d367b25f"
  },
  "kernelspec": {
   "display_name": "Python 3.8.5 ('base')",
   "language": "python",
   "name": "python3"
  },
  "language_info": {
   "codemirror_mode": {
    "name": "ipython",
    "version": 3
   },
   "file_extension": ".py",
   "mimetype": "text/x-python",
   "name": "python",
   "nbconvert_exporter": "python",
   "pygments_lexer": "ipython3",
   "version": "3.8.10"
  },
  "orig_nbformat": 4
 },
 "nbformat": 4,
 "nbformat_minor": 2
}
