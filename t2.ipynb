{
 "cells": [
  {
   "cell_type": "code",
   "execution_count": 1,
   "metadata": {},
   "outputs": [],
   "source": [
    "points = [(2,0), (6,0), (6,2), (8,2), (8,5), (7,5), (7,7), (5,7), (5,9), (3,9), (3,7), (0,7), (0,2), (2,2) ]"
   ]
  },
  {
   "cell_type": "code",
   "execution_count": 97,
   "metadata": {},
   "outputs": [
    {
     "name": "stdout",
     "output_type": "stream",
     "text": [
      "[[(2, 0), (6, 0)], [(6, 0), (6, 2)], [(6, 2), (8, 2)], [(8, 2), (8, 5)], [(8, 5), (7, 5)], [(7, 5), (7, 7)], [(7, 7), (5, 7)], [(5, 7), (5, 9)], [(5, 9), (3, 9)], [(3, 9), (3, 7)], [(3, 7), (0, 7)], [(0, 7), (0, 2)], [(0, 2), (2, 2)], [(2, 2), (2, 0)]]\n"
     ]
    }
   ],
   "source": [
    "def makeEdges(points):\n",
    "    edges = []\n",
    "    for i in range(len(points)):\n",
    "        edges.append([points[i], points[(i+1)%len(points)]])\n",
    "    return edges\n",
    "\n",
    "def proj(x, y, p):\n",
    "    x1, y1 = x[0], x[1]\n",
    "    x2, y2 = y[0], y[1]\n",
    "    xp, yp = p[0], p[1]\n",
    "    x12 = x2 - x1\n",
    "    y12 = y2 - y1\n",
    "    dotp = x12 * (xp - x1) + y12 * (yp - y1)\n",
    "    dot12 = x12 * x12 + y12 * y12\n",
    "    if dot12:\n",
    "        coeff = dotp / dot12\n",
    "        lx = x1 + x12 * coeff\n",
    "        ly = y1 + y12 * coeff\n",
    "        return (int(lx), int(ly))\n",
    "    else:\n",
    "        return False\n",
    "\n",
    "def is_point_in_line(a, b, c):\n",
    "    if (a[0] == b[0] and c[0] == a[0]):\n",
    "        if (a[1] <= c[1] <= b[1]):\n",
    "            return True\n",
    "        else:\n",
    "            return False\n",
    "    elif (a[1] == b[1] and c[1] == a[1]):\n",
    "        if (a[0] <= c[0] <= b[0]):\n",
    "            return True\n",
    "        else:\n",
    "            return False\n",
    "    return False\n",
    "\n",
    "def is_in_same_axis(a, b):\n",
    "    if (a[0] == b[0] or a[1] == b[1]):\n",
    "        return True\n",
    "    return False\n",
    "\n",
    "new_points = []\n",
    "edges = makeEdges(points)\n",
    "for p in points:\n",
    "    for edge in edges:\n",
    "        proj_point = proj(edge[0], edge[1], p)\n",
    "        if is_point_in_line(edge[0], edge[1], proj_point):\n",
    "            cut = [p, proj_point]\n",
    "            if cut not in edges:\n",
    "                new_points.append([p, proj_point])\n",
    "print(edges)"
   ]
  },
  {
   "cell_type": "code",
   "execution_count": 98,
   "metadata": {},
   "outputs": [
    {
     "data": {
      "text/plain": [
       "<matplotlib.image.AxesImage at 0x2a23c30fc70>"
      ]
     },
     "execution_count": 98,
     "metadata": {},
     "output_type": "execute_result"
    },
    {
     "data": {
      "text/plain": [
       "<Figure size 432x288 with 0 Axes>"
      ]
     },
     "metadata": {},
     "output_type": "display_data"
    },
    {
     "data": {
      "image/png": "[encoded data removed]",
      "text/plain": [
       "<Figure size 720x720 with 1 Axes>"
      ]
     },
     "metadata": {
      "needs_background": "light"
     },
     "output_type": "display_data"
    }
   ],
   "source": [
    "import matplotlib.pyplot as plt\n",
    "import numpy as np\n",
    "\n",
    "img = np.zeros((10,10,3), np.uint8)\n",
    "\n",
    "plt.clf()\n",
    "\n",
    "fig = plt.figure(figsize=(10, 10))\n",
    "\n",
    "x_values = []\n",
    "y_values = []\n",
    "\n",
    "for index in range(len(points)):\n",
    "    x =  points[index]\n",
    "    if(index >= len(points)-1):\n",
    "        y = points[0]\n",
    "    else:\n",
    "        y = points[index+1]\n",
    "\n",
    "    x_values = [x[0], y[0]]\n",
    "    y_values = [x[1], y[1]]\n",
    "    plt.plot(x_values, y_values, color=\"r\", marker=\"o\", linestyle=\"-\")\n",
    "\n",
    "x_values = []\n",
    "y_values = []\n",
    "\n",
    "for line in new_points:\n",
    "    x_values = [line[0][0], line[1][0]]\n",
    "    y_values = [line[0][1], line[1][1]]\n",
    "    plt.plot(x_values, y_values, color=\"g\", marker=\"o\", linestyle=\"-\")\n",
    "\n",
    "plt.imshow(img)"
   ]
  },
  {
   "cell_type": "code",
   "execution_count": null,
   "metadata": {},
   "outputs": [],
   "source": []
  }
 ],
 "metadata": {
  "interpreter": {
   "hash": "b3ba2566441a7c06988d0923437866b63cedc61552a5af99d1f4fb67d367b25f"
  },
  "kernelspec": {
   "display_name": "Python 3.8.5 ('base')",
   "language": "python",
   "name": "python3"
  },
  "language_info": {
   "codemirror_mode": {
    "name": "ipython",
    "version": 3
   },
   "file_extension": ".py",
   "mimetype": "text/x-python",
   "name": "python",
   "nbconvert_exporter": "python",
   "pygments_lexer": "ipython3",
   "version": "3.8.5"
  },
  "orig_nbformat": 4
 },
 "nbformat": 4,
 "nbformat_minor": 2
}
