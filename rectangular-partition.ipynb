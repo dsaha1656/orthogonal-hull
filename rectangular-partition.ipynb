{
 "cells": [
  {
   "cell_type": "code",
   "execution_count": 1,
   "id": "ff5be2d0-93d4-46b2-b88f-338c504a2ea5",
   "metadata": {},
   "outputs": [],
   "source": [
    "points = [\n",
    "    (2,0), (6,0), (6,2), (8,2), (8,5), (5,5), (5,9), (3,9), (3,7), (0,7), (0,2), (2,2) \n",
    "]"
   ]
  },
  {
   "cell_type": "markdown",
   "id": "ae6fc636-959b-4cc9-9964-048b204dda96",
   "metadata": {},
   "source": [
    "## Reactangular Partitions of Rectilinear polygon\n",
    "`\n",
    "1. Take Right-Bottom corner of the polygon (P)\n",
    "2. Take any adjusent point(p) that fall within the rectanguliar polygon\n",
    "3. Create the sub-reactangle (Q)\n",
    "4. If the cuts or two lines that created the sub-reactangle(Q) has 1 or 2 cut property :\n",
    "     i. Save the Cut-lines(ln)\n",
    "    ii. Save the total Cut length (L) \n",
    "5. Take the next point as p and repeat step-4\n",
    "6. If no points left to scan:\n",
    "     i. Find the minimum of L\n",
    "    ii. Remove this sub-reactangle(Q) from the main rectangle (P) and create new polygon P'\n",
    "   iii. Calcualte the new points for P'\n",
    "7. Until length of L array is 0 repeat from step 1 with P'\n",
    "`"
   ]
  },
  {
   "cell_type": "code",
   "execution_count": 8,
   "id": "70dc443e-83b3-4913-8b89-2a735ed04229",
   "metadata": {},
   "outputs": [],
   "source": [
    "# find the point with the lowest y-coordinate and the lowest x-coordinate\n",
    "def findRightBottomPoint(points):\n",
    "    x = [p[0] for p in points]\n",
    "    most_right_x = max(x)\n",
    "    max_y = 0\n",
    "    right_bottom_point = (0,0)\n",
    "    for p in points:\n",
    "        if p[0] == most_right_x:\n",
    "            if p[1] > max_y:\n",
    "                max_y = p[1]\n",
    "                right_bottom_point = p\n",
    "    return right_bottom_point"
   ]
  },
  {
   "cell_type": "code",
   "execution_count": 9,
   "id": "80118e05",
   "metadata": {},
   "outputs": [
    {
     "data": {
      "text/plain": [
       "(8, 5)"
      ]
     },
     "execution_count": 9,
     "metadata": {},
     "output_type": "execute_result"
    }
   ],
   "source": [
    "findRightBottomPoint(points)"
   ]
  },
  {
   "cell_type": "code",
   "execution_count": 32,
   "id": "c2616131",
   "metadata": {},
   "outputs": [],
   "source": [
    "# find the path from bounday points for sorting the path\n",
    "def findPath(points):\n",
    "    path = []\n",
    "    right_bottom_point = findRightBottomPoint(points)\n",
    "    path.append(right_bottom_point)\n",
    "    while len(path) < len(points):\n",
    "        for p in points:\n",
    "            if p in path:\n",
    "                continue\n",
    "            if p[0] == path[-1][0]:\n",
    "                path.append(p)\n",
    "                break\n",
    "            if p[1] == path[-1][1]:\n",
    "                path.append(p)\n",
    "                break\n",
    "    return path"
   ]
  },
  {
   "cell_type": "code",
   "execution_count": 33,
   "id": "1d1bee43",
   "metadata": {},
   "outputs": [],
   "source": [
    "path = findPath(points)"
   ]
  },
  {
   "cell_type": "code",
   "execution_count": 27,
   "id": "e56a02b0",
   "metadata": {},
   "outputs": [],
   "source": [
    "# check if a point is within the enclosed area\n",
    "def isPointInArea(point, path):\n",
    "    # check if point has boundary on the left\n",
    "    if point[0] < path[0][0]:\n",
    "        return False\n",
    "    # check if point has boundary on the right\n",
    "    if point[0] > path[-1][0]:\n",
    "        return False\n",
    "    # check if point has boundary on the top\n",
    "    if point[1] > path[-1][1]:\n",
    "        return False\n",
    "    # check if point has boundary on the bottom\n",
    "    if point[1] < path[0][1]:\n",
    "        return False\n",
    "    return True\n"
   ]
  },
  {
   "cell_type": "code",
   "execution_count": 30,
   "id": "f00f1a77",
   "metadata": {},
   "outputs": [
    {
     "data": {
      "text/plain": [
       "False"
      ]
     },
     "execution_count": 30,
     "metadata": {},
     "output_type": "execute_result"
    }
   ],
   "source": [
    "isPointInArea((0,1), path)"
   ]
  },
  {
   "cell_type": "code",
   "execution_count": null,
   "id": "3ceef73b",
   "metadata": {},
   "outputs": [],
   "source": []
  }
 ],
 "metadata": {
  "kernelspec": {
   "display_name": "Python 3 (ipykernel)",
   "language": "python",
   "name": "python3"
  },
  "language_info": {
   "codemirror_mode": {
    "name": "ipython",
    "version": 3
   },
   "file_extension": ".py",
   "mimetype": "text/x-python",
   "name": "python",
   "nbconvert_exporter": "python",
   "pygments_lexer": "ipython3",
   "version": "3.8.10"
  }
 },
 "nbformat": 4,
 "nbformat_minor": 5
}
