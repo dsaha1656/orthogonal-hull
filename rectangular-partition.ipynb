{
 "cells": [
  {
   "cell_type": "code",
   "execution_count": 1,
   "id": "ff5be2d0-93d4-46b2-b88f-338c504a2ea5",
   "metadata": {},
   "outputs": [],
   "source": [
    "points = [\n",
    "    (2,0), (6,0), (6,2), (8,2), (8,5), (5,5), (5,9), (3,9), (3,7), (0,7), (0,2), (2,2) \n",
    "]"
   ]
  },
  {
   "cell_type": "markdown",
   "id": "ae6fc636-959b-4cc9-9964-048b204dda96",
   "metadata": {},
   "source": [
    "## Reactangular Partitions of Rectilinear polygon\n",
    "`\n",
    "1. Take Right-Bottom corner of the polygon (P)\n",
    "2. Take any adjusent point(p) that fall within the rectanguliar polygon\n",
    "3. Create the sub-reactangle (Q)\n",
    "4. If the cuts or two lines that created the sub-reactangle(Q) has 1 or 2 cut property :\n",
    "     i. Save the Cut-lines(ln)\n",
    "    ii. Save the total Cut length (L) \n",
    "5. Take the next point as p and repeat step-4\n",
    "6. If no points left to scan: \n",
    "     i. Find the minimum of L\n",
    "    ii. Remove this sub-reactangle(Q) from the main rectangle (P) and create new polygon P'\n",
    "   iii. Calcualte the new points for P'\n",
    "7. Until length of L array is 0 repeat from step 1 with P'\n",
    "`"
   ]
  },
  {
   "cell_type": "code",
   "execution_count": 2,
   "id": "70dc443e-83b3-4913-8b89-2a735ed04229",
   "metadata": {},
   "outputs": [],
   "source": [
    "# find the point with the lowest y-coordinate and the lowest x-coordinate\n",
    "def findRightBottomPoint(points):\n",
    "    x = [p[0] for p in points]\n",
    "    most_right_x = max(x)\n",
    "    max_y = 0\n",
    "    right_bottom_point = (0,0)\n",
    "    for p in points:\n",
    "        if p[0] == most_right_x:\n",
    "            if p[1] > max_y:\n",
    "                max_y = p[1]\n",
    "                right_bottom_point = p\n",
    "    return right_bottom_point"
   ]
  },
  {
   "cell_type": "code",
   "execution_count": 3,
   "id": "80118e05",
   "metadata": {},
   "outputs": [
    {
     "data": {
      "text/plain": [
       "(8, 5)"
      ]
     },
     "execution_count": 3,
     "metadata": {},
     "output_type": "execute_result"
    }
   ],
   "source": [
    "findRightBottomPoint(points)"
   ]
  },
  {
   "cell_type": "code",
   "execution_count": 4,
   "id": "c2616131",
   "metadata": {},
   "outputs": [],
   "source": [
    "#TODO: make function to sort points via path\n",
    "# sort vertex points boundary wise\n",
    "def sortPointsViaPath(points):\n",
    "    pass\n",
    "sortPointsViaPath(points)"
   ]
  },
  {
   "cell_type": "code",
   "execution_count": 5,
   "id": "8cdeab09",
   "metadata": {},
   "outputs": [
    {
     "data": {
      "text/plain": [
       "[(2, 0),\n",
       " (3, 0),\n",
       " (4, 0),\n",
       " (5, 0),\n",
       " (6, 0),\n",
       " (6, 1),\n",
       " (6, 2),\n",
       " (7, 2),\n",
       " (8, 2),\n",
       " (8, 3),\n",
       " (8, 4),\n",
       " (8, 5),\n",
       " (7, 5),\n",
       " (6, 5),\n",
       " (5, 5),\n",
       " (5, 6),\n",
       " (5, 7),\n",
       " (5, 8),\n",
       " (5, 9),\n",
       " (4, 9),\n",
       " (3, 9),\n",
       " (3, 8),\n",
       " (3, 7),\n",
       " (2, 7),\n",
       " (1, 7),\n",
       " (0, 7),\n",
       " (0, 6),\n",
       " (0, 5),\n",
       " (0, 4),\n",
       " (0, 3),\n",
       " (0, 2),\n",
       " (1, 2),\n",
       " (2, 2)]"
      ]
     },
     "execution_count": 5,
     "metadata": {},
     "output_type": "execute_result"
    }
   ],
   "source": [
    "def generateAllBoundaryPoints(points):\n",
    "    # find the point with the lowest y-coordinate and the lowest x-coordinate\n",
    "    border = []\n",
    "    # print(points)\n",
    "    starting_point = points[0]\n",
    "    border.append(starting_point)\n",
    "    current_point = points[0]\n",
    "    next_point = points[1]\n",
    "    i = 1\n",
    "    while (next_point != starting_point):\n",
    "        # print(\"Staring from: \", current_point, \"To: \", next_point)\n",
    "        while( current_point != next_point):\n",
    "            # print(current_point[0]==next_point[0], current_point[1]==next_point[1], current_point[0], next_point[0], current_point[1], next_point[1])\n",
    "            if(current_point[0]==next_point[0]):\n",
    "                if(current_point[1]<next_point[1]):\n",
    "                    current_point = (current_point[0], current_point[1]+1)\n",
    "                else:\n",
    "                    current_point = (current_point[0], current_point[1]-1)\n",
    "            elif(current_point[1]==next_point[1]):\n",
    "                if(current_point[0]<next_point[0]):\n",
    "                    current_point = (current_point[0]+1, current_point[1])\n",
    "                else:\n",
    "                    current_point = (current_point[0]-1, current_point[1])\n",
    "            # print(\"Adding point: \", current_point)\n",
    "            border.append(current_point)\n",
    "        if(current_point == next_point):\n",
    "            # print(\"Boundary break: \", next_point)\n",
    "            i += 1\n",
    "            if(i < len(points)):\n",
    "                next_point = points[i]\n",
    "            else:\n",
    "                next_point = starting_point\n",
    "    return border\n",
    "generateAllBoundaryPoints(points)\n"
   ]
  },
  {
   "cell_type": "code",
   "execution_count": 6,
   "id": "04bb3051",
   "metadata": {},
   "outputs": [],
   "source": [
    "boundary = generateAllBoundaryPoints(points)\n"
   ]
  },
  {
   "cell_type": "code",
   "execution_count": 7,
   "id": "64182bc0",
   "metadata": {},
   "outputs": [
    {
     "data": {
      "text/plain": [
       "[(2, 0),\n",
       " (3, 0),\n",
       " (4, 0),\n",
       " (5, 0),\n",
       " (6, 0),\n",
       " (6, 1),\n",
       " (6, 2),\n",
       " (7, 2),\n",
       " (8, 2),\n",
       " (8, 3),\n",
       " (8, 4),\n",
       " (8, 5),\n",
       " (7, 5),\n",
       " (6, 5),\n",
       " (5, 5),\n",
       " (5, 6),\n",
       " (5, 7),\n",
       " (5, 8),\n",
       " (5, 9),\n",
       " (4, 9),\n",
       " (3, 9),\n",
       " (3, 8),\n",
       " (3, 7),\n",
       " (2, 7),\n",
       " (1, 7),\n",
       " (0, 7),\n",
       " (0, 6),\n",
       " (0, 5),\n",
       " (0, 4),\n",
       " (0, 3),\n",
       " (0, 2),\n",
       " (1, 2),\n",
       " (2, 2)]"
      ]
     },
     "execution_count": 7,
     "metadata": {},
     "output_type": "execute_result"
    }
   ],
   "source": [
    "boundary"
   ]
  },
  {
   "cell_type": "code",
   "execution_count": 8,
   "id": "e56a02b0",
   "metadata": {},
   "outputs": [],
   "source": [
    "# check if a point is within the enclosed area\n",
    "def isPointInArea(point, boundary):\n",
    "    # check if point is within the boundary\n",
    "    # get heighest and lowest x and y values\n",
    "    x = [p[0] for p in boundary]\n",
    "    y = [p[1] for p in boundary]\n",
    "    most_left_x = min(x)\n",
    "    most_right_x = max(x)\n",
    "    most_bottom_y = max(y)\n",
    "    most_top_y = min(y)\n",
    "    print(\"Most left x: \", most_left_x, \"Most right x: \", most_right_x, \"Most bottom y: \", most_bottom_y, \"Most top y: \", most_top_y)\n",
    "    # go left until you find a point with a higher x-value\n",
    "    checks = {\n",
    "        \"left\": False,\n",
    "        \"right\": False,\n",
    "        \"top\": False,\n",
    "        \"bottom\": False\n",
    "    }\n",
    "    # check if point is within the boundary\n",
    "    # check left side\n",
    "    p = point\n",
    "    while(p[0] >= most_left_x):\n",
    "        # check p is in the boundary\n",
    "        if(p in boundary):\n",
    "            checks[\"left\"] = True\n",
    "            break\n",
    "        p = (p[0]-1, p[1])\n",
    "    # check right side\n",
    "    p = point\n",
    "    while(p[0] <= most_right_x):\n",
    "        # check p is in the boundary\n",
    "        if(p in boundary):\n",
    "            checks[\"right\"] = True\n",
    "            break\n",
    "        p = (p[0]+1, p[1])\n",
    "    # check top side\n",
    "    p = point\n",
    "    while(p[1] >= most_top_y):\n",
    "        # check p is in the boundary\n",
    "        if(p in boundary):\n",
    "            checks[\"top\"] = True\n",
    "            break\n",
    "        p = (p[0], p[1]-1)\n",
    "    # check bottom side\n",
    "    p = point\n",
    "    while(p[1] <= most_bottom_y):\n",
    "        # check p is in the boundary\n",
    "        if(p in boundary):\n",
    "            checks[\"bottom\"] = True\n",
    "            break\n",
    "        p = (p[0], p[1]+1)\n",
    "    print(checks)\n",
    "    return checks[\"left\"] and checks[\"right\"] and checks[\"top\"] and checks[\"bottom\"]"
   ]
  },
  {
   "cell_type": "code",
   "execution_count": 9,
   "id": "f00f1a77",
   "metadata": {},
   "outputs": [
    {
     "name": "stdout",
     "output_type": "stream",
     "text": [
      "Most left x:  0 Most right x:  8 Most bottom y:  9 Most top y:  0\n",
      "{'left': True, 'right': True, 'top': True, 'bottom': True}\n"
     ]
    },
    {
     "data": {
      "text/plain": [
       "True"
      ]
     },
     "execution_count": 9,
     "metadata": {},
     "output_type": "execute_result"
    }
   ],
   "source": [
    "isPointInArea((4,8), boundary)"
   ]
  },
  {
   "cell_type": "code",
   "execution_count": 76,
   "id": "3ceef73b",
   "metadata": {},
   "outputs": [
    {
     "data": {
      "text/plain": [
       "True"
      ]
     },
     "execution_count": 76,
     "metadata": {},
     "output_type": "execute_result"
    }
   ],
   "source": [
    "(2,0) in boundary"
   ]
  },
  {
   "cell_type": "code",
   "execution_count": null,
   "id": "e39484aa",
   "metadata": {},
   "outputs": [],
   "source": []
  },
  {
   "cell_type": "code",
   "execution_count": 10,
   "id": "edcfbbf0",
   "metadata": {},
   "outputs": [
    {
     "data": {
      "text/plain": [
       "[(2, 0),\n",
       " (6, 0),\n",
       " (6, 2),\n",
       " (8, 2),\n",
       " (8, 5),\n",
       " (5, 5),\n",
       " (5, 9),\n",
       " (3, 9),\n",
       " (3, 7),\n",
       " (0, 7),\n",
       " (0, 2),\n",
       " (2, 2)]"
      ]
     },
     "execution_count": 10,
     "metadata": {},
     "output_type": "execute_result"
    }
   ],
   "source": [
    "points"
   ]
  },
  {
   "cell_type": "code",
   "execution_count": 34,
   "id": "9b42e808",
   "metadata": {},
   "outputs": [],
   "source": [
    "import matplotlib.pyplot as plt\n",
    "import numpy as np"
   ]
  },
  {
   "cell_type": "code",
   "execution_count": 60,
   "id": "c0892764",
   "metadata": {},
   "outputs": [
    {
     "data": {
      "text/plain": [
       "<matplotlib.image.AxesImage at 0x7f6bbb551400>"
      ]
     },
     "execution_count": 60,
     "metadata": {},
     "output_type": "execute_result"
    },
    {
     "data": {
      "text/plain": [
       "<Figure size 432x288 with 0 Axes>"
      ]
     },
     "metadata": {},
     "output_type": "display_data"
    },
    {
     "data": {
      "image/png": "[encoded data removed]",
      "text/plain": [
       "<Figure size 720x720 with 1 Axes>"
      ]
     },
     "metadata": {
      "needs_background": "light"
     },
     "output_type": "display_data"
    }
   ],
   "source": [
    "\n",
    "# create a blank image of size 100x100\n",
    "img = np.zeros((100,100,3), np.uint8)\n",
    "\n",
    "plt.clf()\n",
    "\n",
    "fig = plt.figure(figsize=(10, 10))\n",
    "color =  (255, 0, 0)\n",
    "# x1, y1 = [0, 0], [20, 20]\n",
    "x = [0, 0]\n",
    "y = [40, 40]\n",
    "\n",
    "\n",
    "plt.axline(x, y, color=\"r\")\n",
    "\n",
    "plt.imshow(img)"
   ]
  },
  {
   "cell_type": "code",
   "execution_count": 59,
   "id": "c3fe65b0",
   "metadata": {},
   "outputs": [
    {
     "data": {
      "text/plain": [
       "<matplotlib.image.AxesImage at 0x7f6bbb556040>"
      ]
     },
     "execution_count": 59,
     "metadata": {},
     "output_type": "execute_result"
    },
    {
     "data": {
      "text/plain": [
       "<Figure size 432x288 with 0 Axes>"
      ]
     },
     "metadata": {},
     "output_type": "display_data"
    },
    {
     "data": {
      "image/png": "[encoded data removed]",
      "text/plain": [
       "<Figure size 720x720 with 1 Axes>"
      ]
     },
     "metadata": {
      "needs_background": "light"
     },
     "output_type": "display_data"
    }
   ],
   "source": [
    "img = np.zeros((100,100,3), np.uint8)\n",
    "plt.clf()\n",
    "\n",
    "fig = plt.figure(figsize=(10, 10))\n",
    "start_point = points[0]\n",
    "for index in range(len(points)):\n",
    "    break\n",
    "    x =  points[index]\n",
    "    if(index >= len(points)-1):\n",
    "        y = points[0]\n",
    "    else:\n",
    "        y = points[index+1]\n",
    "    print(index, \"Start point: \", x, \"End point: \", y)\n",
    "    # draw a line from start point to end point\n",
    "    plt.axline(x, y, color=\"r\")\n",
    "plt.axline([2,0], [0,0], color=\"r\")\n",
    "plt.imshow(img)"
   ]
  },
  {
   "cell_type": "code",
   "execution_count": 63,
   "id": "b9811fc0",
   "metadata": {},
   "outputs": [
    {
     "name": "stdout",
     "output_type": "stream",
     "text": [
      "0 Start point:  (2, 0) End point:  (6, 0)\n",
      "1 Start point:  (6, 0) End point:  (6, 2)\n",
      "2 Start point:  (6, 2) End point:  (8, 2)\n",
      "3 Start point:  (8, 2) End point:  (8, 5)\n",
      "4 Start point:  (8, 5) End point:  (5, 5)\n",
      "5 Start point:  (5, 5) End point:  (5, 9)\n",
      "6 Start point:  (5, 9) End point:  (3, 9)\n",
      "7 Start point:  (3, 9) End point:  (3, 7)\n",
      "8 Start point:  (3, 7) End point:  (0, 7)\n",
      "9 Start point:  (0, 7) End point:  (0, 2)\n",
      "10 Start point:  (0, 2) End point:  (2, 2)\n",
      "11 Start point:  (2, 2) End point:  (2, 0)\n",
      "11 Start point:  [0, 0] End point:  [40, 40]\n"
     ]
    },
    {
     "data": {
      "text/plain": [
       "<matplotlib.image.AxesImage at 0x7f6bbb376fd0>"
      ]
     },
     "execution_count": 63,
     "metadata": {},
     "output_type": "execute_result"
    },
    {
     "data": {
      "text/plain": [
       "<Figure size 432x288 with 0 Axes>"
      ]
     },
     "metadata": {},
     "output_type": "display_data"
    },
    {
     "data": {
      "image/png": "[encoded data removed]",
      "text/plain": [
       "<Figure size 720x720 with 1 Axes>"
      ]
     },
     "metadata": {
      "needs_background": "light"
     },
     "output_type": "display_data"
    }
   ],
   "source": [
    "\n",
    "# create a blank image of size 100x100\n",
    "img = np.zeros((100,100,3), np.uint8)\n",
    "\n",
    "plt.clf()\n",
    "\n",
    "fig = plt.figure(figsize=(10, 10))\n",
    "color =  (255, 0, 0)\n",
    "# x1, y1 = [0, 0], [20, 20]\n",
    "\n",
    "start_point = points[0]\n",
    "for index in range(len(points)):\n",
    "    x =  points[index]\n",
    "    if(index >= len(points)-1):\n",
    "        y = points[0]\n",
    "    else:\n",
    "        y = points[index+1]\n",
    "    print(index, \"Start point: \", x, \"End point: \", y)\n",
    "    # draw a line from start point to end point\n",
    "    # convert tuple to list\n",
    "    x = list(x)\n",
    "    y = list(y)\n",
    "    plt.axline(x, y, color=\"r\")\n",
    "\n",
    "x = [0, 0]\n",
    "y = [40, 40]\n",
    "\n",
    "print(index, \"Start point: \", x, \"End point: \", y)\n",
    "\n",
    "\n",
    "plt.axline(x, y, color=\"r\")\n",
    "\n",
    "plt.imshow(img)"
   ]
  },
  {
   "cell_type": "code",
   "execution_count": null,
   "id": "2e064a59",
   "metadata": {},
   "outputs": [],
   "source": []
  }
 ],
 "metadata": {
  "kernelspec": {
   "display_name": "Python 3 (ipykernel)",
   "language": "python",
   "name": "python3"
  },
  "language_info": {
   "codemirror_mode": {
    "name": "ipython",
    "version": 3
   },
   "file_extension": ".py",
   "mimetype": "text/x-python",
   "name": "python",
   "nbconvert_exporter": "python",
   "pygments_lexer": "ipython3",
   "version": "3.8.10"
  }
 },
 "nbformat": 4,
 "nbformat_minor": 5
}
