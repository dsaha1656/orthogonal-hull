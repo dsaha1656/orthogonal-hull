{
 "cells": [
  {
   "cell_type": "code",
   "execution_count": 7,
   "metadata": {},
   "outputs": [],
   "source": [
    "import matplotlib.pyplot as plt\n",
    "import numpy as np\n",
    "from itertools import chain, combinations, permutations\n",
    "from shapely.geometry import Polygon, Point\n",
    "from shapely.ops import unary_union"
   ]
  },
  {
   "cell_type": "code",
   "execution_count": 8,
   "metadata": {},
   "outputs": [],
   "source": [
    "# FOR SHOWING EDGES, POINTS, CUT LINES, AND INTERSECTION POINTS\n",
    "def showAsImage(new_points, cut_lines, intersections):\n",
    "    img = np.zeros((10,10,3), np.uint8)\n",
    "    plt.clf()\n",
    "    fig = plt.figure(figsize=(10, 10))\n",
    "    \n",
    "    # showing outer points\n",
    "    x_values = []\n",
    "    y_values = []\n",
    "    for index in range(len(new_points)):\n",
    "        x =  new_points[index]\n",
    "        if(index >= len(new_points)-1):\n",
    "            y = new_points[0]\n",
    "        else:\n",
    "            y = new_points[index+1]\n",
    "        x_values = [x[0], y[0]]\n",
    "        y_values = [x[1], y[1]]\n",
    "        plt.plot(x_values, y_values, color=\"r\", marker=\"o\", linestyle=\"-\")\n",
    "\n",
    "    # showing intersections of cut lines\n",
    "    x_values = []\n",
    "    y_values = []\n",
    "    for intPoint in intersections:\n",
    "        plt.plot(intPoint[0], intPoint[1], color=\"#fff\", marker=\"o\", linestyle=\"-\")\n",
    "\n",
    "    # showing cut lines\n",
    "    x_values = []\n",
    "    y_values = []\n",
    "    for line in cut_lines:\n",
    "        x_values = [line[0][0], line[1][0]]\n",
    "        y_values = [line[0][1], line[1][1]]\n",
    "        plt.plot(x_values, y_values, color=\"g\", marker=\"\", linestyle=\"-\")\n",
    "\n",
    "    plt.imshow(img)\n",
    "\n",
    "# FOR SHOWING LIST OF RECTANGLES\n",
    "def showAllRects(rectangles):\n",
    "    img = np.zeros((10,10,3), np.uint8)\n",
    "    plt.clf()\n",
    "    fig = plt.figure(figsize=(10, 10))\n",
    "\n",
    "    # showing outer points\n",
    "    x_values = []\n",
    "    y_values = []\n",
    "    break_at = 4\n",
    "    i = 0\n",
    "    for box in rectangles:\n",
    "        i += 1\n",
    "        if i > break_at:\n",
    "            # break\n",
    "            pass\n",
    "        # draw rectangle\n",
    "        x_values = [box[0][0], box[1][0], box[2][0], box[3][0], box[0][0]]\n",
    "        y_values = [box[0][1], box[1][1], box[2][1], box[3][1], box[0][1]]\n",
    "        plt.plot(x_values, y_values, color=\"r\", marker=\"o\", linestyle=\"-\")\n",
    "        # plt.imshow(img)\n",
    "        # break\n",
    "\n",
    "    plt.imshow(img)\n"
   ]
  },
  {
   "cell_type": "code",
   "execution_count": 9,
   "metadata": {},
   "outputs": [],
   "source": [
    "# FOR MAKING THE EDGES\n",
    "def makeEdges(points):\n",
    "    edges = []\n",
    "    for i in range(len(points)):\n",
    "        edges.append([points[i], points[(i+1)%len(points)]])\n",
    "    return edges\n",
    "\n",
    "# FOR FINDING THE PROJECTION POINT ON EDGE\n",
    "def proj(x, y, p):\n",
    "    x1, y1 = x[0], x[1]\n",
    "    x2, y2 = y[0], y[1]\n",
    "    xp, yp = p[0], p[1]\n",
    "    x12 = x2 - x1\n",
    "    y12 = y2 - y1\n",
    "    dotp = x12 * (xp - x1) + y12 * (yp - y1)\n",
    "    dot12 = x12 * x12 + y12 * y12\n",
    "    if dot12:\n",
    "        coeff = dotp / dot12\n",
    "        lx = x1 + x12 * coeff\n",
    "        ly = y1 + y12 * coeff\n",
    "        return (int(lx), int(ly))\n",
    "    else:\n",
    "        return False\n",
    "\n",
    "# FOR CHECKING IF POINT C FALL ON LINE AB\n",
    "def is_point_in_line(a, b, c, log=False):\n",
    "    if (a[0] == b[0] and c[0] == a[0]):\n",
    "        if (a[1] <= c[1] <= b[1]) or (a[1] >= c[1] >= b[1]):\n",
    "            return True\n",
    "        else:\n",
    "            return False\n",
    "    elif (a[1] == b[1] and c[1] == a[1]):\n",
    "        if (a[0] <= c[0] <= b[0]) or (a[0] >= c[0] >= b[0]):\n",
    "            return True\n",
    "        else:\n",
    "            return False\n",
    "    return False\n",
    "\n",
    "# FOR CHECKING IF A AND B ARE IN SAME AXIS\n",
    "def is_in_same_axis(a, b):\n",
    "    if (a[0] == b[0] or a[1] == b[1]):\n",
    "        return True\n",
    "    return False\n",
    "\n",
    "# FOR CHECKING IF THE CUT LINE DOES NOT OVERLAPS ANY EDGE LINE\n",
    "def fallOnNoEdge(cut, edges):\n",
    "    for edge in edges:\n",
    "        if edge[0] == cut[0]:\n",
    "            if is_point_in_line(cut[0], cut[1], edge[1]):\n",
    "                return True\n",
    "        elif edge[1] == cut[0]:\n",
    "            if is_point_in_line(cut[0], cut[1], edge[0]):\n",
    "                # print(\"fallOnNoEdge:\", cut, edge)\n",
    "                return True\n",
    "        elif edge[0] == cut[1]:\n",
    "            if is_point_in_line(cut[0], cut[1], edge[1]):\n",
    "                # print(\"fallOnNoEdge:\", cut, edge)\n",
    "                return True\n",
    "        elif edge[1] == cut[1]:\n",
    "            if is_point_in_line(cut[0], cut[1], edge[0]):\n",
    "                # print(\"fallOnNoEdge:\", cut, edge)\n",
    "                return True\n",
    "    return False\n",
    "\n",
    "# FOR FINDING THE INTERSECTION OF CUT LINES\n",
    "def line_intersection(line1, line2):\n",
    "    xdiff = (line1[0][0] - line1[1][0], line2[0][0] - line2[1][0])\n",
    "    ydiff = (line1[0][1] - line1[1][1], line2[0][1] - line2[1][1])\n",
    "\n",
    "    def det(a, b):\n",
    "        return a[0] * b[1] - a[1] * b[0]\n",
    "\n",
    "    div = det(xdiff, ydiff)\n",
    "    if div == 0:\n",
    "        return None\n",
    "\n",
    "    d = (det(*line1), det(*line2))\n",
    "    x = det(d, xdiff) / div\n",
    "    y = det(d, ydiff) / div\n",
    "    return int(x), int(y)\n",
    "\n",
    "# FOR CHECKING IF TWO BOXES ARE INTERSECTING OR NOT\n",
    "def hasOverLap(box1, box2):\n",
    "    poly1 = Polygon(box1)\n",
    "    poly2 = Polygon(box2)\n",
    "    return poly1.intersection(poly2).area > 0\n",
    "\n",
    "# FOR FINDING RECTANGLES IN SET OF POINTS\n",
    "def findRetangles(all_points, rectangles=[], max_area=0):\n",
    "    # rectangles = []\n",
    "    comb_count = 0\n",
    "    perMutCombinations = permutations(all_points, 4)\n",
    "    perMutCombinations = list(perMutCombinations)\n",
    "    comb_count = len(perMutCombinations)\n",
    "    comb_count_index = 0\n",
    "    for comb in list(perMutCombinations):\n",
    "        comb_count_index += 1\n",
    "        print(\"\\r\\r\", f\"{comb_count_index:,}/{comb_count:,}\", \"percent\", round(comb_count_index*100/comb_count, 2), \"% max_area: \", max_area, end=\"\")\n",
    "        # print(\"\\r\\r {:n}/{:n}\".format(comb_count_index, comb_count), end=\"\")\n",
    "        tmp = list(comb)\n",
    "        poly = Polygon(tmp)\n",
    "        # if poly is rectangle\n",
    "        if poly.area == poly.minimum_rotated_rectangle.area and poly.area != 0:\n",
    "            box_already_entered = False\n",
    "            for b in permutations(tmp):\n",
    "                b = list(b)\n",
    "                if b in rectangles:\n",
    "                    box_already_entered = True\n",
    "                    break\n",
    "            if not box_already_entered:\n",
    "                # tmp is rectangle\n",
    "                if poly.area > max_area:\n",
    "                    return [tmp], True, poly.area\n",
    "\n",
    "                allowd_to_add = False\n",
    "                if len(rectangles) == 0:\n",
    "                    allowd_to_add = True\n",
    "                    # rectangles.append(tmp)\n",
    "                else:\n",
    "                    has_overlap = False \n",
    "                    for rect in rectangles:\n",
    "                        if hasOverLap(tmp, rect):\n",
    "                            has_overlap = True\n",
    "                            break\n",
    "                    if not has_overlap:\n",
    "                        allowd_to_add = True\n",
    "                        # rectangles.append(tmp)\n",
    "                if allowd_to_add:\n",
    "                    # if poly.area > max_area:\n",
    "                    #     return [tmp], True, poly.area\n",
    "                    rectangles.append(tmp)\n",
    "    return rectangles, False, max_area  \n",
    "\n",
    "# COMBINES RECTANGLES THAT FORMS ANOTHER RETANGLES\n",
    "def mergeRectangle(rectangles):\n",
    "    # print(\"accepting\", rectangles)\n",
    "    prev_rects = rectangles.copy()\n",
    "    merged_rects = []\n",
    "    n = 2\n",
    "    possible_combs = chain.from_iterable(combinations(rectangles, i) for i in range(n, len(rectangles)+1))\n",
    "    # new_rectangles = rectangles.copy()\n",
    "    for possibility in possible_combs:\n",
    "        rects = []\n",
    "        for box in possibility:\n",
    "            p = Polygon(box)\n",
    "            rects.append(p)\n",
    "        u = unary_union(rects)\n",
    "        if u.area == u.minimum_rotated_rectangle.area and u.area !=0:\n",
    "            # get points of u\n",
    "            # print(u.bounds)\n",
    "            bounds = [  \n",
    "                ( int(u.bounds[0]), int(u.bounds[1]) ),\n",
    "                ( int(u.bounds[2]), int(u.bounds[1]) ), \n",
    "                ( int(u.bounds[2]), int(u.bounds[3]) ), \n",
    "                ( int(u.bounds[0]), int(u.bounds[3]) )\n",
    "            ]\n",
    "            # print(bounds)\n",
    "            merged_rects.append(u)\n",
    "            for box in possibility:\n",
    "                if box in rectangles:\n",
    "                    rectangles.remove(box)\n",
    "                # else:\n",
    "                #     print(\"not found \", box)\n",
    "            rectangles.append(bounds)\n",
    "    # print(\"retuning\", rectangles)\n",
    "    return rectangles, prev_rects\n"
   ]
  },
  {
   "cell_type": "code",
   "execution_count": 10,
   "metadata": {},
   "outputs": [
    {
     "name": "stdout",
     "output_type": "stream",
     "text": [
      "len 14 P:  [(2, 0), (6, 0), (6, 2), (8, 2), (8, 5), (7, 5), (7, 7), (5, 7), (5, 9), (3, 9), (3, 7), (0, 7), (0, 2), (2, 2)]\n",
      "len 14 P:  [(2, 0), (6, 0), (6, 2), (8, 2), (8, 5), (7, 5), (7, 7), (5, 7), (5, 9), (3, 9), (3, 7), (0, 7), (0, 2), (2, 2)]\n",
      "ints :  [(6, 5), (5, 2), (3, 2), (5, 5), (3, 5), (2, 5)]\n"
     ]
    },
    {
     "data": {
      "text/plain": [
       "<Figure size 432x288 with 0 Axes>"
      ]
     },
     "metadata": {},
     "output_type": "display_data"
    },
    {
     "data": {
      "image/png": "[encoded data removed]",
      "text/plain": [
       "<Figure size 720x720 with 1 Axes>"
      ]
     },
     "metadata": {
      "needs_background": "light"
     },
     "output_type": "display_data"
    }
   ],
   "source": [
    "# FOR FINDING EDGES, CUT LINES AND INTERSECTION POINTS\n",
    "points = [(2,0), (6,0), (6,2), (8,2), (8,5), (7,5), (7,7), (5,7), (5,9), (3,9), (3,7), (0,7), (0,2), (2,2) ]\n",
    "cut_lines = []\n",
    "print(\"len\", len(points), \"P: \", points)\n",
    "new_points = points.copy()\n",
    "edges = makeEdges(points)\n",
    "\n",
    "# EXPANDING PROJECTION POINTS OF EACH POINT TO RESPECTIVE EAGE\n",
    "for p in points:\n",
    "    for edge in edges:\n",
    "        proj_point = proj(edge[0], edge[1], p)\n",
    "        if is_point_in_line(edge[0], edge[1], proj_point):\n",
    "            cut = [p, proj_point]\n",
    "            if p != proj_point and cut not in edges and not fallOnNoEdge(cut, edges):\n",
    "                if proj_point not in new_points:\n",
    "                    new_points.insert(new_points.index(edge[0])+1, proj_point)\n",
    "                cut_lines.append([p, proj_point])\n",
    "print(\"len\", len(points), \"P: \", points)\n",
    "\n",
    "intersections = []\n",
    "# FINDING INTERSECTION POINTS ON EACH EDGE\n",
    "for i in range(len(cut_lines)):\n",
    "    for j in range(len(cut_lines)):\n",
    "        line1 = cut_lines[i]\n",
    "        line2 = cut_lines[j]\n",
    "        if line1 == line2 or line1[0]==line2[0] or line1[0]==line2[1] or line1[1]==line2[0] or line1[1]==line2[1]:\n",
    "            continue\n",
    "        int_point = line_intersection(line1, line2)\n",
    "        if int_point is not None and int_point not in intersections and int_point not in new_points:\n",
    "            intersections.append(int_point)\n",
    "\n",
    "# print(\"len\", len(points), \"P: \", points)\n",
    "print(\"ints : \", intersections)\n",
    "showAsImage(new_points, cut_lines, intersections)"
   ]
  },
  {
   "cell_type": "code",
   "execution_count": 11,
   "metadata": {},
   "outputs": [
    {
     "name": "stdout",
     "output_type": "stream",
     "text": [
      " Restart count  1  new max_area:  0  <===\n",
      " Restart count  2  new max_area:  7.0  <===\n",
      " Restart count  3  new max_area:  21.0  <===\n",
      " Restart count  4  new max_area:  28.0  <===\n",
      " Restart count  5  new max_area:  30.0  <===8.0\n",
      " Restart count  6  new max_area:  35.0  <===0.0\n",
      " 21,572/116,280 percent 18.55 % max_area:  35.0"
     ]
    },
    {
     "ename": "KeyboardInterrupt",
     "evalue": "",
     "output_type": "error",
     "traceback": [
      "\u001b[0;31m---------------------------------------------------------------------------\u001b[0m",
      "\u001b[0;31mKeyboardInterrupt\u001b[0m                         Traceback (most recent call last)",
      "\u001b[1;32m/home/dibyndu/Documents/m.tech/orthogonal-hull/t3.ipynb Cell 5'\u001b[0m in \u001b[0;36m<cell line: 9>\u001b[0;34m()\u001b[0m\n\u001b[1;32m     <a href='vscode-notebook-cell:/home/dibyndu/Documents/m.tech/orthogonal-hull/t3.ipynb#ch0000004?line=9'>10</a>\u001b[0m     i \u001b[39m+\u001b[39m\u001b[39m=\u001b[39m \u001b[39m1\u001b[39m\n\u001b[1;32m     <a href='vscode-notebook-cell:/home/dibyndu/Documents/m.tech/orthogonal-hull/t3.ipynb#ch0000004?line=10'>11</a>\u001b[0m     \u001b[39mprint\u001b[39m(\u001b[39m\"\u001b[39m\u001b[39m\\r\u001b[39;00m\u001b[39m\\r\u001b[39;00m\u001b[39m\\r\u001b[39;00m\u001b[39m Restart count \u001b[39m\u001b[39m\"\u001b[39m, i, \u001b[39m\"\u001b[39m\u001b[39m new max_area: \u001b[39m\u001b[39m\"\u001b[39m, max_area, \u001b[39m\"\u001b[39m\u001b[39m <===\u001b[39m\u001b[39m\"\u001b[39m)\n\u001b[0;32m---> <a href='vscode-notebook-cell:/home/dibyndu/Documents/m.tech/orthogonal-hull/t3.ipynb#ch0000004?line=11'>12</a>\u001b[0m     rectangles, foundNewMax, max_area \u001b[39m=\u001b[39m findRetangles(all_points, rectangles, max_area)\n\u001b[1;32m     <a href='vscode-notebook-cell:/home/dibyndu/Documents/m.tech/orthogonal-hull/t3.ipynb#ch0000004?line=13'>14</a>\u001b[0m \u001b[39mprint\u001b[39m(rectangles)\n\u001b[1;32m     <a href='vscode-notebook-cell:/home/dibyndu/Documents/m.tech/orthogonal-hull/t3.ipynb#ch0000004?line=14'>15</a>\u001b[0m showAllRects(rectangles)\n",
      "\u001b[1;32m/home/dibyndu/Documents/m.tech/orthogonal-hull/t3.ipynb Cell 3'\u001b[0m in \u001b[0;36mfindRetangles\u001b[0;34m(all_points, rectangles, max_area)\u001b[0m\n\u001b[1;32m    <a href='vscode-notebook-cell:/home/dibyndu/Documents/m.tech/orthogonal-hull/t3.ipynb#ch0000002?line=100'>101</a>\u001b[0m poly \u001b[39m=\u001b[39m Polygon(tmp)\n\u001b[1;32m    <a href='vscode-notebook-cell:/home/dibyndu/Documents/m.tech/orthogonal-hull/t3.ipynb#ch0000002?line=101'>102</a>\u001b[0m \u001b[39m# if poly is rectangle\u001b[39;00m\n\u001b[0;32m--> <a href='vscode-notebook-cell:/home/dibyndu/Documents/m.tech/orthogonal-hull/t3.ipynb#ch0000002?line=102'>103</a>\u001b[0m \u001b[39mif\u001b[39;00m poly\u001b[39m.\u001b[39marea \u001b[39m==\u001b[39m poly\u001b[39m.\u001b[39;49mminimum_rotated_rectangle\u001b[39m.\u001b[39marea \u001b[39mand\u001b[39;00m poly\u001b[39m.\u001b[39marea \u001b[39m!=\u001b[39m \u001b[39m0\u001b[39m:\n\u001b[1;32m    <a href='vscode-notebook-cell:/home/dibyndu/Documents/m.tech/orthogonal-hull/t3.ipynb#ch0000002?line=103'>104</a>\u001b[0m     box_already_entered \u001b[39m=\u001b[39m \u001b[39mFalse\u001b[39;00m\n\u001b[1;32m    <a href='vscode-notebook-cell:/home/dibyndu/Documents/m.tech/orthogonal-hull/t3.ipynb#ch0000002?line=104'>105</a>\u001b[0m     \u001b[39mfor\u001b[39;00m b \u001b[39min\u001b[39;00m permutations(tmp):\n",
      "File \u001b[0;32m~/.local/lib/python3.8/site-packages/shapely/geometry/base.py:510\u001b[0m, in \u001b[0;36mBaseGeometry.minimum_rotated_rectangle\u001b[0;34m(self)\u001b[0m\n\u001b[1;32m    <a href='file:///home/dibyndu/.local/lib/python3.8/site-packages/shapely/geometry/base.py?line=503'>504</a>\u001b[0m \u001b[39m\"\"\"Returns the general minimum bounding rectangle of\u001b[39;00m\n\u001b[1;32m    <a href='file:///home/dibyndu/.local/lib/python3.8/site-packages/shapely/geometry/base.py?line=504'>505</a>\u001b[0m \u001b[39mthe geometry. Can possibly be rotated. If the convex hull\u001b[39;00m\n\u001b[1;32m    <a href='file:///home/dibyndu/.local/lib/python3.8/site-packages/shapely/geometry/base.py?line=505'>506</a>\u001b[0m \u001b[39mof the object is a degenerate (line or point) this same degenerate\u001b[39;00m\n\u001b[1;32m    <a href='file:///home/dibyndu/.local/lib/python3.8/site-packages/shapely/geometry/base.py?line=506'>507</a>\u001b[0m \u001b[39mis returned.\u001b[39;00m\n\u001b[1;32m    <a href='file:///home/dibyndu/.local/lib/python3.8/site-packages/shapely/geometry/base.py?line=507'>508</a>\u001b[0m \u001b[39m\"\"\"\u001b[39;00m\n\u001b[1;32m    <a href='file:///home/dibyndu/.local/lib/python3.8/site-packages/shapely/geometry/base.py?line=508'>509</a>\u001b[0m \u001b[39m# first compute the convex hull\u001b[39;00m\n\u001b[0;32m--> <a href='file:///home/dibyndu/.local/lib/python3.8/site-packages/shapely/geometry/base.py?line=509'>510</a>\u001b[0m hull \u001b[39m=\u001b[39m \u001b[39mself\u001b[39;49m\u001b[39m.\u001b[39;49mconvex_hull\n\u001b[1;32m    <a href='file:///home/dibyndu/.local/lib/python3.8/site-packages/shapely/geometry/base.py?line=510'>511</a>\u001b[0m \u001b[39mtry\u001b[39;00m:\n\u001b[1;32m    <a href='file:///home/dibyndu/.local/lib/python3.8/site-packages/shapely/geometry/base.py?line=511'>512</a>\u001b[0m     coords \u001b[39m=\u001b[39m hull\u001b[39m.\u001b[39mexterior\u001b[39m.\u001b[39mcoords\n",
      "File \u001b[0;32m~/.local/lib/python3.8/site-packages/shapely/geometry/base.py:495\u001b[0m, in \u001b[0;36mBaseGeometry.convex_hull\u001b[0;34m(self)\u001b[0m\n\u001b[1;32m    <a href='file:///home/dibyndu/.local/lib/python3.8/site-packages/shapely/geometry/base.py?line=486'>487</a>\u001b[0m \u001b[39m@property\u001b[39m\n\u001b[1;32m    <a href='file:///home/dibyndu/.local/lib/python3.8/site-packages/shapely/geometry/base.py?line=487'>488</a>\u001b[0m \u001b[39mdef\u001b[39;00m \u001b[39mconvex_hull\u001b[39m(\u001b[39mself\u001b[39m):\n\u001b[1;32m    <a href='file:///home/dibyndu/.local/lib/python3.8/site-packages/shapely/geometry/base.py?line=488'>489</a>\u001b[0m     \u001b[39m\"\"\"Imagine an elastic band stretched around the geometry: that's a\u001b[39;00m\n\u001b[1;32m    <a href='file:///home/dibyndu/.local/lib/python3.8/site-packages/shapely/geometry/base.py?line=489'>490</a>\u001b[0m \u001b[39m    convex hull, more or less\u001b[39;00m\n\u001b[1;32m    <a href='file:///home/dibyndu/.local/lib/python3.8/site-packages/shapely/geometry/base.py?line=490'>491</a>\u001b[0m \n\u001b[1;32m    <a href='file:///home/dibyndu/.local/lib/python3.8/site-packages/shapely/geometry/base.py?line=491'>492</a>\u001b[0m \u001b[39m    The convex hull of a three member multipoint, for example, is a\u001b[39;00m\n\u001b[1;32m    <a href='file:///home/dibyndu/.local/lib/python3.8/site-packages/shapely/geometry/base.py?line=492'>493</a>\u001b[0m \u001b[39m    triangular polygon.\u001b[39;00m\n\u001b[1;32m    <a href='file:///home/dibyndu/.local/lib/python3.8/site-packages/shapely/geometry/base.py?line=493'>494</a>\u001b[0m \u001b[39m    \"\"\"\u001b[39;00m\n\u001b[0;32m--> <a href='file:///home/dibyndu/.local/lib/python3.8/site-packages/shapely/geometry/base.py?line=494'>495</a>\u001b[0m     \u001b[39mreturn\u001b[39;00m geom_factory(\u001b[39mself\u001b[39m\u001b[39m.\u001b[39mimpl[\u001b[39m'\u001b[39m\u001b[39mconvex_hull\u001b[39m\u001b[39m'\u001b[39m](\u001b[39mself\u001b[39m))\n",
      "\u001b[0;31mKeyboardInterrupt\u001b[0m: "
     ]
    }
   ],
   "source": [
    "# max_area without intersection points\n",
    "i = 0\n",
    "rectangles = []\n",
    "max_area = 0\n",
    "foundNewMax = True\n",
    "all_points = new_points #+ intersections\n",
    "\n",
    "# CHECKING FOR ALL POSSIBLE RETANGLES AND FINDING MAX AREA\n",
    "while foundNewMax == True:\n",
    "    i += 1\n",
    "    print(\"\\r\\r\\r Restart count \", i, \" new max_area: \", max_area, \" <===\")\n",
    "    rectangles, foundNewMax, max_area = findRetangles(all_points, rectangles, max_area)\n",
    "\n",
    "print(rectangles)\n",
    "showAllRects(rectangles)"
   ]
  },
  {
   "cell_type": "code",
   "execution_count": 136,
   "metadata": {},
   "outputs": [
    {
     "data": {
      "text/plain": [
       "<Figure size 432x288 with 0 Axes>"
      ]
     },
     "metadata": {},
     "output_type": "display_data"
    },
    {
     "data": {
      "image/png": "[encoded data removed]",
      "text/plain": [
       "<Figure size 720x720 with 1 Axes>"
      ]
     },
     "metadata": {
      "needs_background": "light"
     },
     "output_type": "display_data"
    }
   ],
   "source": [
    "# COMBININF RECTANGLES\n",
    "prev_rects = rectangles.copy()\n",
    "new_rectangles = []\n",
    "while new_rectangles != prev_rects:\n",
    "    new_rectangles, prev_rects = mergeRectangle(prev_rects)\n",
    "    prev_rects = new_rectangles\n",
    "\n",
    "\n",
    "showAllRects(new_rectangles)\n",
    "    "
   ]
  },
  {
   "cell_type": "code",
   "execution_count": 66,
   "metadata": {},
   "outputs": [
    {
     "data": {
      "text/plain": [
       "<Figure size 432x288 with 0 Axes>"
      ]
     },
     "metadata": {},
     "output_type": "display_data"
    },
    {
     "data": {
      "image/png": "[encoded data removed]",
      "text/plain": [
       "<Figure size 720x720 with 1 Axes>"
      ]
     },
     "metadata": {
      "needs_background": "light"
     },
     "output_type": "display_data"
    }
   ],
   "source": [
    "\n",
    "merged_rects = []\n",
    "n = 2\n",
    "possible_combs = chain.from_iterable(combinations(rectangles, i) for i in range(n, len(rectangles)+1))\n",
    "new_rectangles = rectangles.copy()\n",
    "for possibility in possible_combs:\n",
    "    rects = []\n",
    "    for box in possibility:\n",
    "        p = Polygon(box)\n",
    "        rects.append(p)\n",
    "    u = unary_union(rects)\n",
    "    if u.area == u.minimum_rotated_rectangle.area and u.area !=0:\n",
    "        # get points of u\n",
    "        print(u.bounds)\n",
    "        bounds = [(u.bounds[0], u.bounds[1]), (u.bounds[2], u.bounds[1]), (u.bounds[2], u.bounds[3]), (u.bounds[0], u.bounds[3])]\n",
    "        print(bounds)\n",
    "        merged_rects.append(u)\n",
    "        for box in possibility:\n",
    "            new_rectangles.remove(box)\n",
    "        new_rectangles.append(bounds)\n",
    "    # break\n",
    "    # print(\"possibility: \", possibility)\n",
    "showAllRects(new_rectangles)\n",
    "    "
   ]
  },
  {
   "cell_type": "code",
   "execution_count": 98,
   "metadata": {},
   "outputs": [
    {
     "name": "stdout",
     "output_type": "stream",
     "text": [
      " Restart count  1  new max_area:  0  <===\n",
      " Restart count  2  new max_area:  7.0  <===\n",
      " Restart count  3  new max_area:  21.0  <===\n",
      " Restart count  4  new max_area:  28.0  <===0\n",
      " Restart count  5  new max_area:  30.0  <===8.0\n",
      " Restart count  6  new max_area:  35.0  <===0.0\n",
      " 358,800/358,800 percent 100.0 % max_area:  35.0[[(7, 2), (7, 7), (0, 7), (0, 2)], [(2, 0), (3, 0), (3, 2), (2, 2)], [(3, 0), (5, 0), (5, 2), (3, 2)], [(5, 0), (6, 0), (6, 2), (5, 2)], [(7, 2), (8, 2), (8, 5), (7, 5)], [(5, 7), (5, 9), (3, 9), (3, 7)]]\n"
     ]
    },
    {
     "data": {
      "text/plain": [
       "<Figure size 432x288 with 0 Axes>"
      ]
     },
     "metadata": {},
     "output_type": "display_data"
    },
    {
     "data": {
      "image/png": "[encoded data removed]",
      "text/plain": [
       "<Figure size 720x720 with 1 Axes>"
      ]
     },
     "metadata": {
      "needs_background": "light"
     },
     "output_type": "display_data"
    }
   ],
   "source": [
    "# max_area with intersection points\n",
    "i = 0\n",
    "rectangles = []\n",
    "max_area = 0\n",
    "foundNewMax = True\n",
    "all_points = new_points + intersections\n",
    "while foundNewMax == True:\n",
    "    i += 1\n",
    "    print(\"\\r\\r\\r Restart count \", i, \" new max_area: \", max_area, \" <===\")\n",
    "    rectangles, foundNewMax, max_area = findRetangles(all_points, rectangles, max_area)\n",
    "\n",
    "print(rectangles)\n",
    "showAllRects(rectangles)"
   ]
  },
  {
   "cell_type": "code",
   "execution_count": 130,
   "metadata": {},
   "outputs": [
    {
     "data": {
      "text/plain": [
       "<Figure size 432x288 with 0 Axes>"
      ]
     },
     "metadata": {},
     "output_type": "display_data"
    },
    {
     "data": {
      "image/png": "[encoded data removed]",
      "text/plain": [
       "<Figure size 720x720 with 1 Axes>"
      ]
     },
     "metadata": {
      "needs_background": "light"
     },
     "output_type": "display_data"
    }
   ],
   "source": [
    "\n",
    "prev_rects = rectangles.copy()\n",
    "new_rectangles = []\n",
    "while new_rectangles != prev_rects:\n",
    "    new_rectangles, prev_rects = mergeRectangle(prev_rects)\n",
    "    prev_rects = new_rectangles\n",
    "\n",
    "\n",
    "showAllRects(new_rectangles)\n",
    "    "
   ]
  },
  {
   "cell_type": "code",
   "execution_count": 106,
   "metadata": {},
   "outputs": [
    {
     "data": {
      "text/plain": [
       "[[(7, 2), (7, 7), (0, 7), (0, 2)],\n",
       " [(7, 2), (8, 2), (8, 5), (7, 5)],\n",
       " [(5, 7), (5, 9), (3, 9), (3, 7)],\n",
       " [(2, 0), (5, 0), (5, 2), (2, 2)],\n",
       " [(3, 0), (6, 0), (6, 2), (3, 2)]]"
      ]
     },
     "execution_count": 106,
     "metadata": {},
     "output_type": "execute_result"
    }
   ],
   "source": [
    "new_rectangles"
   ]
  },
  {
   "cell_type": "code",
   "execution_count": 12,
   "metadata": {},
   "outputs": [
    {
     "name": "stdout",
     "output_type": "stream",
     "text": [
      "len 9 P:  [(0, 0), (3, 0), (3, 2), (7, 2), (7, 3), (5, 3), (2, 3), (2, 5), (0, 5)]\n",
      "ints :  [(2, 2)]\n"
     ]
    },
    {
     "data": {
      "text/plain": [
       "<Figure size 432x288 with 0 Axes>"
      ]
     },
     "metadata": {},
     "output_type": "display_data"
    },
    {
     "data": {
      "image/png": "[encoded data removed]",
      "text/plain": [
       "<Figure size 720x720 with 1 Axes>"
      ]
     },
     "metadata": {
      "needs_background": "light"
     },
     "output_type": "display_data"
    }
   ],
   "source": [
    "# FOR FINDING EDGES, CUT LINES AND INTERSECTION POINTS\n",
    "points = [(0,0), (3,0), (3,2), (7,2), (7,3), (5,3), (2,3), (2,5), (0,5)]\n",
    "cut_lines = []\n",
    "new_points = points.copy()\n",
    "edges = makeEdges(points)\n",
    "primary_poly = Polygon(points)\n",
    "for p in points:\n",
    "    for edge in edges:\n",
    "        proj_point = proj(edge[0], edge[1], p)\n",
    "        if is_point_in_line(edge[0], edge[1], proj_point):\n",
    "            cut = [p, proj_point]\n",
    "            if p != proj_point and cut not in edges and not fallOnNoEdge(cut, edges):\n",
    "                # check if cut fall into polygon\n",
    "                center_point = (cut[0][0] + cut[1][0])/2, (cut[0][1] + cut[1][1])/2\n",
    "                if not primary_poly.contains(Point(proj_point)) and not primary_poly.contains(Point(center_point)):\n",
    "                    continue\n",
    "                if proj_point not in new_points:\n",
    "                    new_points.insert(new_points.index(edge[0])+1, proj_point)\n",
    "                cut_lines.append([p, proj_point])\n",
    "print(\"len\", len(points), \"P: \", points)\n",
    "intersections = []\n",
    "for i in range(len(cut_lines)):\n",
    "    for j in range(len(cut_lines)):\n",
    "        line1 = cut_lines[i]\n",
    "        line2 = cut_lines[j]\n",
    "        if line1 == line2 or line1[0]==line2[0] or line1[0]==line2[1] or line1[1]==line2[0] or line1[1]==line2[1]:\n",
    "            continue\n",
    "        int_point = line_intersection(line1, line2)\n",
    "        if int_point is not None and int_point not in intersections and int_point not in new_points:\n",
    "            intersections.append(int_point)\n",
    "\n",
    "# print(\"len\", len(points), \"P: \", points)\n",
    "print(\"ints : \", intersections)\n",
    "showAsImage(new_points, cut_lines, intersections)"
   ]
  },
  {
   "cell_type": "code",
   "execution_count": 16,
   "metadata": {},
   "outputs": [
    {
     "name": "stdout",
     "output_type": "stream",
     "text": [
      " Restart count  1  new max_area:  0  <===\n",
      " Restart count  2  new max_area:  6.0  <===\n",
      " Restart count  3  new max_area:  10.0  <===\n",
      " 32,760/32,760 percent 100.0 % max_area:  10.0[[(0, 0), (2, 0), (2, 5), (0, 5)], [(2, 0), (3, 0), (3, 2), (2, 2)], [(3, 2), (5, 2), (5, 3), (3, 3)], [(3, 2), (3, 3), (2, 3), (2, 2)], [(5, 2), (7, 2), (7, 3), (5, 3)]]\n"
     ]
    },
    {
     "data": {
      "text/plain": [
       "<Figure size 432x288 with 0 Axes>"
      ]
     },
     "metadata": {},
     "output_type": "display_data"
    },
    {
     "data": {
      "image/png": "[encoded data removed]",
      "text/plain": [
       "<Figure size 720x720 with 1 Axes>"
      ]
     },
     "metadata": {
      "needs_background": "light"
     },
     "output_type": "display_data"
    }
   ],
   "source": [
    "# max_area with intersection points\n",
    "i = 0\n",
    "rectangles = []\n",
    "max_area = 0\n",
    "foundNewMax = True\n",
    "all_points = new_points + intersections\n",
    "while foundNewMax == True:\n",
    "    i += 1\n",
    "    print(\"\\r\\r\\r Restart count \", i, \" new max_area: \", max_area, \" <===\")\n",
    "    rectangles, foundNewMax, max_area = findRetangles(all_points, rectangles, max_area)\n",
    "print(rectangles)\n",
    "showAllRects(rectangles)"
   ]
  },
  {
   "cell_type": "code",
   "execution_count": 17,
   "metadata": {},
   "outputs": [
    {
     "name": "stdout",
     "output_type": "stream",
     "text": [
      "(2.0, 0.0, 3.0, 3.0)\n",
      "[(2.0, 0.0), (3.0, 0.0), (3.0, 3.0), (2.0, 3.0)]\n",
      "(2.0, 2.0, 5.0, 3.0)\n",
      "[(2.0, 2.0), (5.0, 2.0), (5.0, 3.0), (2.0, 3.0)]\n"
     ]
    },
    {
     "ename": "ValueError",
     "evalue": "list.remove(x): x not in list",
     "output_type": "error",
     "traceback": [
      "\u001b[0;31m---------------------------------------------------------------------------\u001b[0m",
      "\u001b[0;31mValueError\u001b[0m                                Traceback (most recent call last)",
      "\u001b[1;32m/home/dibyndu/Documents/m.tech/orthogonal-hull/t3.ipynb Cell 13'\u001b[0m in \u001b[0;36m<cell line: 5>\u001b[0;34m()\u001b[0m\n\u001b[1;32m     <a href='vscode-notebook-cell:/home/dibyndu/Documents/m.tech/orthogonal-hull/t3.ipynb#ch0000012?line=15'>16</a>\u001b[0m     merged_rects\u001b[39m.\u001b[39mappend(u)\n\u001b[1;32m     <a href='vscode-notebook-cell:/home/dibyndu/Documents/m.tech/orthogonal-hull/t3.ipynb#ch0000012?line=16'>17</a>\u001b[0m     \u001b[39mfor\u001b[39;00m box \u001b[39min\u001b[39;00m possibility:\n\u001b[0;32m---> <a href='vscode-notebook-cell:/home/dibyndu/Documents/m.tech/orthogonal-hull/t3.ipynb#ch0000012?line=17'>18</a>\u001b[0m         rectangles\u001b[39m.\u001b[39;49mremove(box)\n\u001b[1;32m     <a href='vscode-notebook-cell:/home/dibyndu/Documents/m.tech/orthogonal-hull/t3.ipynb#ch0000012?line=18'>19</a>\u001b[0m     rectangles\u001b[39m.\u001b[39mappend(bounds)\n\u001b[1;32m     <a href='vscode-notebook-cell:/home/dibyndu/Documents/m.tech/orthogonal-hull/t3.ipynb#ch0000012?line=19'>20</a>\u001b[0m \u001b[39m# break\u001b[39;00m\n\u001b[1;32m     <a href='vscode-notebook-cell:/home/dibyndu/Documents/m.tech/orthogonal-hull/t3.ipynb#ch0000012?line=20'>21</a>\u001b[0m \u001b[39m# print(\"possibility: \", possibility)\u001b[39;00m\n",
      "\u001b[0;31mValueError\u001b[0m: list.remove(x): x not in list"
     ]
    }
   ],
   "source": [
    "\n",
    "merged_rects = []\n",
    "n = 2\n",
    "possible_combs = chain.from_iterable(combinations(rectangles, i) for i in range(n, len(rectangles)+1))\n",
    "\n",
    "for possibility in possible_combs:\n",
    "    rects = []\n",
    "    for box in possibility:\n",
    "        p = Polygon(box)\n",
    "        rects.append(p)\n",
    "    u = unary_union(rects)\n",
    "    if u.area == u.minimum_rotated_rectangle.area and u.area !=0:\n",
    "        # get points of u\n",
    "        print(u.bounds)\n",
    "        bounds = [(u.bounds[0], u.bounds[1]), (u.bounds[2], u.bounds[1]), (u.bounds[2], u.bounds[3]), (u.bounds[0], u.bounds[3])]\n",
    "        print(bounds)\n",
    "        merged_rects.append(u)\n",
    "        for box in possibility:\n",
    "            rectangles.remove(box)\n",
    "        rectangles.append(bounds)\n",
    "    # break\n",
    "    # print(\"possibility: \", possibility)\n",
    "showAllRects(rectangles)\n",
    "    "
   ]
  },
  {
   "cell_type": "code",
   "execution_count": 56,
   "metadata": {},
   "outputs": [
    {
     "data": {
      "text/plain": [
       "(3.0, 2.0, 7.0, 3.0)"
      ]
     },
     "execution_count": 56,
     "metadata": {},
     "output_type": "execute_result"
    }
   ],
   "source": [
    "merged_rects[0].bounds"
   ]
  },
  {
   "cell_type": "code",
   "execution_count": 59,
   "metadata": {},
   "outputs": [
    {
     "data": {
      "text/plain": [
       "<Figure size 432x288 with 0 Axes>"
      ]
     },
     "metadata": {},
     "output_type": "display_data"
    },
    {
     "data": {
      "image/png": "[encoded data removed]",
      "text/plain": [
       "<Figure size 720x720 with 1 Axes>"
      ]
     },
     "metadata": {
      "needs_background": "light"
     },
     "output_type": "display_data"
    }
   ],
   "source": [
    "showAllRects(new_rects)"
   ]
  },
  {
   "cell_type": "code",
   "execution_count": null,
   "metadata": {},
   "outputs": [],
   "source": []
  }
 ],
 "metadata": {
  "interpreter": {
   "hash": "916dbcbb3f70747c44a77c7bcd40155683ae19c65e1c03b4aa3499c5328201f1"
  },
  "kernelspec": {
   "display_name": "Python 3.8.10 64-bit",
   "language": "python",
   "name": "python3"
  },
  "language_info": {
   "codemirror_mode": {
    "name": "ipython",
    "version": 3
   },
   "file_extension": ".py",
   "mimetype": "text/x-python",
   "name": "python",
   "nbconvert_exporter": "python",
   "pygments_lexer": "ipython3",
   "version": "3.8.10"
  },
  "orig_nbformat": 4
 },
 "nbformat": 4,
 "nbformat_minor": 2
}
