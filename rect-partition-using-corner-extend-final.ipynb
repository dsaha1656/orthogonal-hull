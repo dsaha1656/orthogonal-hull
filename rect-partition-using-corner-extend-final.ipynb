{
 "cells": [
  {
   "cell_type": "code",
   "execution_count": 1,
   "metadata": {},
   "outputs": [],
   "source": [
    "import matplotlib.pyplot as plt\n",
    "import numpy as np"
   ]
  },
  {
   "cell_type": "code",
   "execution_count": 5,
   "metadata": {},
   "outputs": [],
   "source": [
    "points = [(2,0), (6,0), (6,2), (8,2), (8,5), (5,5), (5,9), (3,9), (3,7), (0,7), (0,2), (2,2) ]\n",
    "\n",
    "points = [(2,0), (6,0), (6,2), (8,2), (8,5), (7,5), (7,7), (5,7), (5,9), (3,9), (3,7), (0,7), (0,2), (2,2) ]"
   ]
  },
  {
   "cell_type": "code",
   "execution_count": 6,
   "metadata": {},
   "outputs": [],
   "source": [
    "def generateAllBoundaryPoints(points):\n",
    "    # find the point with the lowest y-coordinate and the lowest x-coordinate\n",
    "    border = []\n",
    "    # print(points)\n",
    "    starting_point = points[0]\n",
    "    border.append(starting_point)\n",
    "    current_point = points[0]\n",
    "    next_point = points[1]\n",
    "    i = 1\n",
    "    while (next_point != starting_point):\n",
    "        # print(\"Staring from: \", current_point, \"To: \", next_point)\n",
    "        while( current_point != next_point):\n",
    "            # print(current_point[0]==next_point[0], current_point[1]==next_point[1], current_point[0], next_point[0], current_point[1], next_point[1])\n",
    "            if(current_point[0]==next_point[0]):\n",
    "                if(current_point[1]<next_point[1]):\n",
    "                    current_point = (current_point[0], current_point[1]+1)\n",
    "                else:\n",
    "                    current_point = (current_point[0], current_point[1]-1)\n",
    "            elif(current_point[1]==next_point[1]):\n",
    "                if(current_point[0]<next_point[0]):\n",
    "                    current_point = (current_point[0]+1, current_point[1])\n",
    "                else:\n",
    "                    current_point = (current_point[0]-1, current_point[1])\n",
    "            # print(\"Adding point: \", current_point)\n",
    "            border.append(current_point)\n",
    "        if(current_point == next_point):\n",
    "            # print(\"Boundary break: \", next_point)\n",
    "            i += 1\n",
    "            if(i < len(points)):\n",
    "                next_point = points[i]\n",
    "            else:\n",
    "                # mssing points bettween next_point and starting_point\n",
    "                # print(\"mssing points bettween \",next_point ,\"and\", starting_point)\n",
    "                if(next_point[0]==starting_point[0]):\n",
    "                    if(next_point[1]<starting_point[1]):\n",
    "                        next_point = (next_point[0], next_point[1]+1)\n",
    "                    else:\n",
    "                        next_point = (next_point[0], next_point[1]-1)\n",
    "                elif (next_point[1]==starting_point[1]):\n",
    "                    if(next_point[0]<starting_point[0]):\n",
    "                        next_point = (next_point[0]+1, next_point[1])\n",
    "                    else:\n",
    "                        next_point = (next_point[0]-1, next_point[1])\n",
    "                else:\n",
    "                    next_point = starting_point\n",
    "    return border"
   ]
  },
  {
   "cell_type": "code",
   "execution_count": 7,
   "metadata": {},
   "outputs": [],
   "source": [
    "bounrday = generateAllBoundaryPoints(points)"
   ]
  },
  {
   "cell_type": "code",
   "execution_count": 10,
   "metadata": {},
   "outputs": [
    {
     "data": {
      "text/plain": [
       "<matplotlib.image.AxesImage at 0x7f8429e409a0>"
      ]
     },
     "execution_count": 10,
     "metadata": {},
     "output_type": "execute_result"
    },
    {
     "data": {
      "text/plain": [
       "<Figure size 432x288 with 0 Axes>"
      ]
     },
     "metadata": {},
     "output_type": "display_data"
    },
    {
     "data": {
      "image/png": "[encoded data removed]",
      "text/plain": [
       "<Figure size 720x720 with 1 Axes>"
      ]
     },
     "metadata": {
      "needs_background": "light"
     },
     "output_type": "display_data"
    }
   ],
   "source": [
    "\n",
    "# create a blank image of size 100x100\n",
    "img = np.zeros((10,10,3), np.uint8)\n",
    "\n",
    "plt.clf()\n",
    "\n",
    "fig = plt.figure(figsize=(10, 10))\n",
    "color =  (255, 0, 0)\n",
    "# x1, y1 = [0, 0], [20, 20]\n",
    "bounrday = generateAllBoundaryPoints(points)\n",
    "start_point = points[0]\n",
    "previous_line = None\n",
    "\n",
    "def drawInnerLine(point, bounrday, edge=((0,10), (0,10)), flow=\"r\"):\n",
    "    x = point[0]\n",
    "    y = point[1]\n",
    "    points = []\n",
    "    edge_x = edge[0]\n",
    "    edge_y = edge[1]\n",
    "    if(flow == \"r\"):\n",
    "        x1, y1 = x+1, y\n",
    "        while ((x1, y1) not in bounrday ) and ( edge_x[0] < x1 < edge_x[1]) and ( edge_y[0] < y1 < edge_y[1]):\n",
    "            points.append((x1, y1))\n",
    "            x1, y1 = x1+1, y1\n",
    "        if not ( edge_x[0] < x1 < edge_x[1]) and ( edge_y[0] < y1 < edge_y[1]):\n",
    "            return []\n",
    "        if (x1, y1) not in bounrday:\n",
    "            return []\n",
    "        if (x1, y1) in bounrday and len(points) > 0:\n",
    "            points.append((x1, y1))\n",
    "    elif(flow == \"l\"):\n",
    "        x1, y1 = x-1, y\n",
    "        while ((x1, y1) not in bounrday ) and ( edge_x[0] <= x1 <= edge_x[1]) and ( edge_y[0] <= y1 <= edge_y[1]):\n",
    "            points.append((x1, y1))\n",
    "            x1, y1 = x1-1, y1\n",
    "        \n",
    "        if not ( edge_x[0] <= x1 <= edge_x[1]) and ( edge_y[0] <= y1 <= edge_y[1]):\n",
    "            return []\n",
    "        if (x1, y1) not in bounrday:\n",
    "            return []\n",
    "        if (x1, y1) in bounrday and len(points) > 0:\n",
    "            points.append((x1, y1))\n",
    "    elif(flow == \"u\"):\n",
    "        x1, y1 = x, y-1\n",
    "        while ((x1, y1) not in bounrday ) and ( edge_x[0] <= x1 <= edge_x[1]) and ( edge_y[0] <= y1 <= edge_y[1]):\n",
    "            points.append((x1, y1))\n",
    "            x1, y1 = x1, y1-1\n",
    "        if not ( edge_x[0] <= x1 <= edge_x[1]) and ( edge_y[0] <= y1 <= edge_y[1]):\n",
    "            return []\n",
    "        if (x1, y1) not in bounrday:\n",
    "            return []\n",
    "        if (x1, y1) in bounrday and len(points) > 0:\n",
    "            points.append((x1, y1))\n",
    "        allinBoundary = True\n",
    "        for p in points:\n",
    "            if p not in bounrday:\n",
    "                # print(p, \" is not in boundary\")\n",
    "                allinBoundary = False\n",
    "                break\n",
    "        if(allinBoundary):\n",
    "            return []\n",
    "    elif(flow == \"d\"):\n",
    "        x1, y1 = x, y+1\n",
    "        while ((x1, y1) not in bounrday ) and ( edge_x[0] <= x1 <= edge_x[1]) and ( edge_y[0] <= y1 <= edge_y[1]):\n",
    "            points.append((x1, y1))\n",
    "            x1, y1 = x1, y1+1\n",
    "        if not ( edge_x[0] <= x1 <= edge_x[1]) and ( edge_y[0] <= y1 <= edge_y[1]):\n",
    "            return []\n",
    "        if (x1, y1) not in bounrday:\n",
    "            return []\n",
    "        if (x1, y1) in bounrday and len(points) > 0:\n",
    "            points.append((x1, y1))\n",
    "    return points\n",
    "\n",
    "\n",
    "edge_x = (0, 9)\n",
    "edge_y = (0, 9)\n",
    "edge = (edge_x, edge_y)\n",
    "\n",
    "for index in range(len(points)):\n",
    "    # marking the orthogonal boundary\n",
    "    # finding the next point\n",
    "    x =  points[index]\n",
    "    if(index >= len(points)-1):\n",
    "        y = points[0]\n",
    "    else:\n",
    "        y = points[index+1]\n",
    "    # marking the line\n",
    "    x_values = [x[0], y[0]]\n",
    "    y_values = [x[1], y[1]]\n",
    "    plt.plot(x_values, y_values, color=\"r\", marker=\"o\", linestyle=\"-\")\n",
    "\n",
    "    if previous_line is None:\n",
    "        previous_line = [x, y]\n",
    "    else:\n",
    "        # finding the intersection of the two lines\n",
    "        # print(\"Previous line: \", previous_line)\n",
    "        # print(\"Current line: \", [x, y])\n",
    "        next_line = [previous_line[1], y]\n",
    "        # intersection point \n",
    "        intersection_point = previous_line[1]\n",
    "        # print(\"Angle from : \", previous_line, \" to: \", next_line, \" intersection point: \", intersection_point)\n",
    "\n",
    "        # find angle from previous line to next line\n",
    "        # drawline from intersection point to right side until it intersects with the next line\n",
    "        inner_points = drawInnerLine(intersection_point, bounrday, edge, flow=\"r\")\n",
    "        # print(inner_points)\n",
    "        for inner_point in inner_points:\n",
    "            x_values = [intersection_point[0], inner_point[0]]\n",
    "            y_values = [intersection_point[1], inner_point[1]]\n",
    "            plt.plot(x_values, y_values, color=\"b\", marker=\"\", linestyle=\"-\")\n",
    "        \n",
    "        inner_points = drawInnerLine(intersection_point, bounrday, edge, flow=\"l\")\n",
    "        for inner_point in inner_points:\n",
    "            x_values = [intersection_point[0], inner_point[0]]\n",
    "            y_values = [intersection_point[1], inner_point[1]]\n",
    "            plt.plot(x_values, y_values, color=\"b\", marker=\"\", linestyle=\"-\")\n",
    "\n",
    "        inner_points = drawInnerLine(intersection_point, bounrday, edge, flow=\"u\")\n",
    "        for inner_point in inner_points:\n",
    "            x_values = [intersection_point[0], inner_point[0]]\n",
    "            y_values = [intersection_point[1], inner_point[1]]\n",
    "            plt.plot(x_values, y_values, color=\"b\", marker=\"\", linestyle=\"-\")\n",
    "\n",
    "        inner_points = drawInnerLine(intersection_point, bounrday, edge, flow=\"d\")\n",
    "        for inner_point in inner_points:\n",
    "            x_values = [intersection_point[0], inner_point[0]]\n",
    "            y_values = [intersection_point[1], inner_point[1]]\n",
    "            plt.plot(x_values, y_values, color=\"b\", marker=\"\", linestyle=\"-\")\n",
    "\n",
    "        previous_line = next_line\n",
    "        # break\n",
    "\n",
    "plt.imshow(img)"
   ]
  },
  {
   "cell_type": "code",
   "execution_count": null,
   "metadata": {},
   "outputs": [],
   "source": []
  },
  {
   "cell_type": "code",
   "execution_count": null,
   "metadata": {},
   "outputs": [],
   "source": []
  }
 ],
 "metadata": {
  "interpreter": {
   "hash": "916dbcbb3f70747c44a77c7bcd40155683ae19c65e1c03b4aa3499c5328201f1"
  },
  "kernelspec": {
   "display_name": "Python 3.8.10 64-bit",
   "language": "python",
   "name": "python3"
  },
  "language_info": {
   "codemirror_mode": {
    "name": "ipython",
    "version": 3
   },
   "file_extension": ".py",
   "mimetype": "text/x-python",
   "name": "python",
   "nbconvert_exporter": "python",
   "pygments_lexer": "ipython3",
   "version": "3.8.10"
  },
  "orig_nbformat": 4
 },
 "nbformat": 4,
 "nbformat_minor": 2
}
