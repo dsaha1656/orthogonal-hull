{
 "cells": [
  {
   "cell_type": "code",
   "execution_count": 21,
   "metadata": {},
   "outputs": [],
   "source": [
    "import matplotlib.pyplot as plt\n",
    "import numpy as np\n",
    "from itertools import chain, combinations, permutations\n",
    "from shapely.geometry import Polygon, Point\n",
    "from shapely.ops import unary_union\n",
    "import random"
   ]
  },
  {
   "cell_type": "code",
   "execution_count": 27,
   "metadata": {},
   "outputs": [],
   "source": [
    "# FOR SHOWING EDGES, POINTS, CUT LINES, AND INTERSECTION POINTS\n",
    "def showAsImage(new_points, cut_lines, intersections):\n",
    "    img = np.zeros((500,500,3), np.uint8)\n",
    "    plt.clf()\n",
    "    fig = plt.figure(figsize=(10, 10))\n",
    "    \n",
    "    # showing outer points\n",
    "    x_values = []\n",
    "    y_values = []\n",
    "    for index in range(len(new_points)):\n",
    "        x =  new_points[index]\n",
    "        if(index >= len(new_points)-1):\n",
    "            y = new_points[0]\n",
    "        else:\n",
    "            y = new_points[index+1]\n",
    "        x_values = [x[0], y[0]]\n",
    "        y_values = [x[1], y[1]]\n",
    "        plt.plot(x_values, y_values, color=\"r\", marker=\"o\", linestyle=\"-\")\n",
    "\n",
    "    # showing intersections of cut lines\n",
    "    x_values = []\n",
    "    y_values = []\n",
    "    for intPoint in intersections:\n",
    "        plt.plot(intPoint[0], intPoint[1], color=\"#fff\", marker=\"o\", linestyle=\"-\")\n",
    "\n",
    "    # showing cut lines\n",
    "    x_values = []\n",
    "    y_values = []\n",
    "    for line in cut_lines:\n",
    "        x_values = [line[0][0], line[1][0]]\n",
    "        y_values = [line[0][1], line[1][1]]\n",
    "        plt.plot(x_values, y_values, color=\"g\", marker=\"\", linestyle=\"-\")\n",
    "\n",
    "    plt.imshow(img)\n",
    "\n",
    "# FOR SHOWING LIST OF RECTANGLES\n",
    "def showAllRects(rectangles):\n",
    "    img = np.zeros((500,500,3), np.uint8)\n",
    "    plt.clf()\n",
    "    fig = plt.figure(figsize=(10, 10))\n",
    "    img.fill(255)\n",
    "\n",
    "    # showing outer points\n",
    "    x_values = []\n",
    "    y_values = []\n",
    "    break_at = 4\n",
    "    i = 0\n",
    "    for box in rectangles:\n",
    "        i += 1\n",
    "        if i > break_at:\n",
    "            # break\n",
    "            pass\n",
    "        # draw rectangle\n",
    "\n",
    "        r = lambda: random.randint(50,128)\n",
    "        # print('#%02X%02X%02X' % (r(),r(),r()))\n",
    "        color = str('#%02X%02X%02X' % (r(),r(),r()))\n",
    "        x_values = [box[0][0], box[1][0], box[2][0], box[3][0], box[0][0]]\n",
    "        y_values = [box[0][1], box[1][1], box[2][1], box[3][1], box[0][1]]\n",
    "        plt.plot(x_values, y_values, color=color, marker=\"o\", linestyle=\"-\")\n",
    "        # plt.imshow(img)\n",
    "        # break\n",
    "\n",
    "    plt.imshow(img)\n"
   ]
  },
  {
   "cell_type": "code",
   "execution_count": 23,
   "metadata": {},
   "outputs": [
    {
     "data": {
      "text/plain": [
       "<Figure size 432x288 with 0 Axes>"
      ]
     },
     "metadata": {},
     "output_type": "display_data"
    },
    {
     "data": {
      "image/png": "[encoded data removed]",
      "text/plain": [
       "<Figure size 720x720 with 1 Axes>"
      ]
     },
     "metadata": {
      "needs_background": "light"
     },
     "output_type": "display_data"
    }
   ],
   "source": [
    "showAllRects(rectangles)"
   ]
  },
  {
   "cell_type": "code",
   "execution_count": 24,
   "metadata": {},
   "outputs": [],
   "source": [
    "# FOR MAKING THE EDGES\n",
    "def makeEdges(points):\n",
    "    edges = []\n",
    "    for i in range(len(points)):\n",
    "        edges.append([points[i], points[(i+1)%len(points)]])\n",
    "    return edges\n",
    "\n",
    "# FOR FINDING THE PROJECTION POINT ON EDGE\n",
    "def proj(x, y, p):\n",
    "    x1, y1 = x[0], x[1]\n",
    "    x2, y2 = y[0], y[1]\n",
    "    xp, yp = p[0], p[1]\n",
    "    x12 = x2 - x1\n",
    "    y12 = y2 - y1\n",
    "    dotp = x12 * (xp - x1) + y12 * (yp - y1)\n",
    "    dot12 = x12 * x12 + y12 * y12\n",
    "    if dot12:\n",
    "        coeff = dotp / dot12\n",
    "        lx = x1 + x12 * coeff\n",
    "        ly = y1 + y12 * coeff\n",
    "        return (int(lx), int(ly))\n",
    "    else:\n",
    "        return False\n",
    "\n",
    "# FOR CHECKING IF POINT C FALL ON LINE AB\n",
    "def is_point_in_line(a, b, c, log=False):\n",
    "    if (a[0] == b[0] and c[0] == a[0]):\n",
    "        if (a[1] <= c[1] <= b[1]) or (a[1] >= c[1] >= b[1]):\n",
    "            return True\n",
    "        else:\n",
    "            return False\n",
    "    elif (a[1] == b[1] and c[1] == a[1]):\n",
    "        if (a[0] <= c[0] <= b[0]) or (a[0] >= c[0] >= b[0]):\n",
    "            return True\n",
    "        else:\n",
    "            return False\n",
    "    return False\n",
    "\n",
    "# FOR CHECKING IF A AND B ARE IN SAME AXIS\n",
    "def is_in_same_axis(a, b):\n",
    "    if (a[0] == b[0] or a[1] == b[1]):\n",
    "        return True\n",
    "    return False\n",
    "\n",
    "# FOR CHECKING IF THE CUT LINE DOES NOT OVERLAPS ANY EDGE LINE\n",
    "def fallOnNoEdge(cut, edges):\n",
    "    for edge in edges:\n",
    "        if edge[0] == cut[0]:\n",
    "            if is_point_in_line(cut[0], cut[1], edge[1]):\n",
    "                return True\n",
    "        elif edge[1] == cut[0]:\n",
    "            if is_point_in_line(cut[0], cut[1], edge[0]):\n",
    "                # print(\"fallOnNoEdge:\", cut, edge)\n",
    "                return True\n",
    "        elif edge[0] == cut[1]:\n",
    "            if is_point_in_line(cut[0], cut[1], edge[1]):\n",
    "                # print(\"fallOnNoEdge:\", cut, edge)\n",
    "                return True\n",
    "        elif edge[1] == cut[1]:\n",
    "            if is_point_in_line(cut[0], cut[1], edge[0]):\n",
    "                # print(\"fallOnNoEdge:\", cut, edge)\n",
    "                return True\n",
    "    return False\n",
    "\n",
    "# FOR FINDING THE INTERSECTION OF CUT LINES\n",
    "def line_intersection(line1, line2):\n",
    "    xdiff = (line1[0][0] - line1[1][0], line2[0][0] - line2[1][0])\n",
    "    ydiff = (line1[0][1] - line1[1][1], line2[0][1] - line2[1][1])\n",
    "\n",
    "    def det(a, b):\n",
    "        return a[0] * b[1] - a[1] * b[0]\n",
    "\n",
    "    div = det(xdiff, ydiff)\n",
    "    if div == 0:\n",
    "        return None\n",
    "\n",
    "    d = (det(*line1), det(*line2))\n",
    "    x = det(d, xdiff) / div\n",
    "    y = det(d, ydiff) / div\n",
    "    return int(x), int(y)\n",
    "\n",
    "# FOR CHECKING IF TWO BOXES ARE INTERSECTING OR NOT\n",
    "def hasOverLap(box1, box2):\n",
    "    poly1 = Polygon(box1)\n",
    "    poly2 = Polygon(box2)\n",
    "    return poly1.intersection(poly2).area > 0\n",
    "\n",
    "# FOR FINDING RECTANGLES IN SET OF POINTS\n",
    "def findRetangles(all_points, rectangles=[], max_area=0, primary_poly=None):\n",
    "    # rectangles = []\n",
    "    comb_count = 0\n",
    "    perMutCombinations = permutations(all_points, 4)\n",
    "    perMutCombinations = list(perMutCombinations)\n",
    "    comb_count = len(perMutCombinations)\n",
    "    comb_count_index = 0\n",
    "    for comb in list(perMutCombinations):\n",
    "        comb_count_index += 1\n",
    "        print(\"\\r\\r\", f\"{comb_count_index:,}/{comb_count:,}\", \"percent\", round(comb_count_index*100/comb_count, 2), \"% max_area: \", max_area, end=\"\")\n",
    "        # print(\"\\r\\r {:n}/{:n}\".format(comb_count_index, comb_count), end=\"\")\n",
    "        tmp = list(comb)\n",
    "        poly = Polygon(tmp)\n",
    "        # if poly is rectangle\n",
    "        if poly.area == poly.minimum_rotated_rectangle.area and poly.area != 0:\n",
    "            box_already_entered = False\n",
    "            for b in permutations(tmp):\n",
    "                b = list(b)\n",
    "                if b in rectangles:\n",
    "                    box_already_entered = True\n",
    "                    break\n",
    "            if not box_already_entered:\n",
    "                # tmp is rectangle\n",
    "                # if poly.area > max_area:\n",
    "                #     return [tmp], True, poly.area\n",
    "\n",
    "                allowd_to_add = False\n",
    "                if len(rectangles) == 0:\n",
    "                    allowd_to_add = True\n",
    "                    # rectangles.append(tmp)\n",
    "                else:\n",
    "                    has_overlap = False \n",
    "                    for rect in rectangles:\n",
    "                        if hasOverLap(tmp, rect):\n",
    "                            has_overlap = True\n",
    "                            break\n",
    "                    if not has_overlap:\n",
    "                        allowd_to_add = True\n",
    "                        # rectangles.append(tmp)\n",
    "                if allowd_to_add:\n",
    "                    # poly = Polygon(rectangles[0])\n",
    "                    if primary_poly.intersection(poly).is_closed:\n",
    "                        if poly.area > max_area:\n",
    "                            return [tmp], True, poly.area\n",
    "                        # continue\n",
    "                        rectangles.append(tmp)\n",
    "    return rectangles, False, max_area  \n",
    "\n",
    "# COMBINES RECTANGLES THAT FORMS ANOTHER RETANGLES# COMBINES RECTANGLES THAT FORMS ANOTHER RETANGLES\n",
    "def mergeRectangle(rectangles):\n",
    "    # print(\"accepting\", rectangles)\n",
    "    prev_rects = rectangles.copy()\n",
    "    merged_rects = []\n",
    "    n = 2\n",
    "    possible_combs = chain.from_iterable(combinations(rectangles, i) for i in range(n, len(rectangles)+1))\n",
    "    # new_rectangles = rectangles.copy()\n",
    "    for possibility in possible_combs:\n",
    "        # print(possibility)\n",
    "        rects = []\n",
    "        for box in possibility:\n",
    "            p = Polygon(box)\n",
    "            rects.append(p)\n",
    "        u = unary_union(rects)\n",
    "        if u.area == u.minimum_rotated_rectangle.area and u.area !=0:\n",
    "            # get points of u\n",
    "            # print(u.bounds)\n",
    "            bounds = [  \n",
    "                ( int(u.bounds[0]), int(u.bounds[1]) ),\n",
    "                ( int(u.bounds[2]), int(u.bounds[1]) ), \n",
    "                ( int(u.bounds[2]), int(u.bounds[3]) ), \n",
    "                ( int(u.bounds[0]), int(u.bounds[3]) )\n",
    "            ]\n",
    "            # print(bounds)\n",
    "            merged_rects.append(u)\n",
    "            for box in possibility:\n",
    "                if box in rectangles:\n",
    "                    rectangles.remove(box)\n",
    "                # else:\n",
    "                #     print(\"not found \", box)\n",
    "            rectangles.append(bounds)\n",
    "        elif rects[0].intersection(rects[1]).area > 0:\n",
    "            # print(\"dadadad\")\n",
    "            common_poly = rects[0].intersection(rects[1])\n",
    "            p1 = None\n",
    "            if rects[0].area > rects[1].area:\n",
    "                if possibility[1] in rectangles:\n",
    "                    rectangles.remove(possibility[1])\n",
    "                p1 = rects[1].symmetric_difference(common_poly)\n",
    "            else:\n",
    "                if possibility[0] in rectangles:\n",
    "                    rectangles.remove(possibility[0])\n",
    "                p1 = rects[0].symmetric_difference(common_poly)\n",
    "            if p1.area > 0:\n",
    "                bounds = [  \n",
    "                    ( int(p1.bounds[0]), int(p1.bounds[1]) ),\n",
    "                    ( int(p1.bounds[2]), int(p1.bounds[1]) ), \n",
    "                    ( int(p1.bounds[2]), int(p1.bounds[3]) ), \n",
    "                    ( int(p1.bounds[0]), int(p1.bounds[3]) )\n",
    "                ]\n",
    "            rectangles.append(bounds)\n",
    "                \n",
    "    # print(\"retuning\", rectangles)\n",
    "    return rectangles, prev_rects"
   ]
  },
  {
   "cell_type": "code",
   "execution_count": 25,
   "metadata": {},
   "outputs": [
    {
     "name": "stdout",
     "output_type": "stream",
     "text": [
      "len 10 P:  [(84, 59), (84, 333), (209, 333), (209, 453), (305, 453), (305, 223), (168, 223), (168, 122), (290, 122), (290, 59)]\n",
      "len 10 P:  [(84, 59), (84, 333), (209, 333), (209, 453), (305, 453), (305, 223), (168, 223), (168, 122), (290, 122), (290, 59)]\n",
      "ints :  [(290, 333)]\n"
     ]
    },
    {
     "data": {
      "text/plain": [
       "<Figure size 432x288 with 0 Axes>"
      ]
     },
     "metadata": {},
     "output_type": "display_data"
    },
    {
     "data": {
      "image/png": "[encoded data removed]",
      "text/plain": [
       "<Figure size 720x720 with 1 Axes>"
      ]
     },
     "metadata": {
      "needs_background": "light"
     },
     "output_type": "display_data"
    }
   ],
   "source": [
    "# FOR FINDING EDGES, CUT LINES AND INTERSECTION POINTS\n",
    "# points = [(0,0), (3,0), (3,2), (7,2), (7,3), (5,3), (2,3), (2,5), (0,5)]\n",
    "# points = [(0,0), (3,0), (3,2), (7,2), (7,0), (9,0), (9,5), (5,5), (5,3), (2,3), (2,5), (0,5)]\n",
    "# points = [(2,0), (6,0), (6,2), (8,2), (8,5), (7,5), (7,7), (5,7), (5,9), (3,9), (3,7), (0,7), (0,2), (2,2) ]\n",
    "points = [(84, 59), (84, 333), (209, 333), (209, 453), (305, 453), (305, 223), (168, 223), (168, 122), (290, 122), (290, 59) ]\n",
    "primary_poly = Polygon(points)\n",
    "cut_lines = []\n",
    "print(\"len\", len(points), \"P: \", points)\n",
    "new_points = points.copy()\n",
    "edges = makeEdges(points)\n",
    "\n",
    "# EXPANDING PROJECTION POINTS OF EACH POINT TO RESPECTIVE EAGE\n",
    "for p in points:\n",
    "    for edge in edges:\n",
    "        proj_point = proj(edge[0], edge[1], p)\n",
    "        if is_point_in_line(edge[0], edge[1], proj_point):\n",
    "            cut = [p, proj_point]\n",
    "            if p != proj_point and cut not in edges and not fallOnNoEdge(cut, edges):\n",
    "                if proj_point not in new_points:\n",
    "                    new_points.insert(new_points.index(edge[0])+1, proj_point)\n",
    "                center_point = (cut[0][0] + cut[1][0])/2, (cut[0][1] + cut[1][1])/2\n",
    "                if not primary_poly.contains(Point(proj_point)) and not primary_poly.contains(Point(center_point)):\n",
    "                    continue\n",
    "                cut_lines.append([p, proj_point])\n",
    "print(\"len\", len(points), \"P: \", points)\n",
    "\n",
    "intersections = []\n",
    "# FINDING INTERSECTION POINTS ON EACH EDGE\n",
    "for i in range(len(cut_lines)):\n",
    "    for j in range(len(cut_lines)):\n",
    "        line1 = cut_lines[i]\n",
    "        line2 = cut_lines[j]\n",
    "        if line1 == line2 or line1[0]==line2[0] or line1[0]==line2[1] or line1[1]==line2[0] or line1[1]==line2[1]:\n",
    "            continue\n",
    "        int_point = line_intersection(line1, line2)\n",
    "        if int_point is not None and int_point not in intersections and int_point not in new_points:\n",
    "            intersections.append(int_point)\n",
    "\n",
    "# print(\"len\", len(points), \"P: \", points)\n",
    "print(\"ints : \", intersections)\n",
    "showAsImage(new_points, cut_lines, intersections)"
   ]
  },
  {
   "cell_type": "code",
   "execution_count": 28,
   "metadata": {},
   "outputs": [
    {
     "data": {
      "text/plain": [
       "<Figure size 432x288 with 0 Axes>"
      ]
     },
     "metadata": {},
     "output_type": "display_data"
    },
    {
     "data": {
      "image/png": "[encoded data removed]",
      "text/plain": [
       "<Figure size 720x720 with 1 Axes>"
      ]
     },
     "metadata": {
      "needs_background": "light"
     },
     "output_type": "display_data"
    }
   ],
   "source": [
    "showAsImage(new_points, cut_lines, intersections)"
   ]
  },
  {
   "cell_type": "code",
   "execution_count": 26,
   "metadata": {},
   "outputs": [
    {
     "name": "stdout",
     "output_type": "stream",
     "text": [
      " Restart count  1  new max_area:  0  <===\n",
      " Restart count  2  new max_area:  5292.0  <===\n",
      " Restart count  3  new max_area:  8484.0  <===0\n",
      " Restart count  4  new max_area:  9240.0  <===4.0\n",
      " Restart count  5  new max_area:  9720.0  <===0.0\n",
      " Restart count  6  new max_area:  10560.0  <===.0\n",
      " 143,640/143,640 percent 100.0 % max_area:  10560.0[[(209, 333), (305, 333), (305, 223), (209, 223)], [(84, 59), (84, 122), (168, 122), (168, 59)], [(84, 122), (84, 223), (168, 223), (168, 122)], [(84, 223), (84, 333), (168, 333), (168, 223)], [(168, 333), (209, 333), (209, 223), (168, 223)], [(209, 333), (209, 453), (290, 453), (290, 333)], [(290, 453), (305, 453), (305, 333), (290, 333)], [(168, 122), (209, 122), (209, 59), (168, 59)], [(209, 122), (290, 122), (290, 59), (209, 59)]]\n"
     ]
    },
    {
     "data": {
      "text/plain": [
       "<Figure size 432x288 with 0 Axes>"
      ]
     },
     "metadata": {},
     "output_type": "display_data"
    },
    {
     "data": {
      "image/png": "[encoded data removed]",
      "text/plain": [
       "<Figure size 720x720 with 1 Axes>"
      ]
     },
     "metadata": {
      "needs_background": "light"
     },
     "output_type": "display_data"
    }
   ],
   "source": [
    "# max_area without intersection points\n",
    "i = 0\n",
    "rectangles = []\n",
    "max_area = 0\n",
    "foundNewMax = True\n",
    "all_points = new_points + intersections\n",
    "\n",
    "# CHECKING FOR ALL POSSIBLE RETANGLES AND FINDING MAX AREA\n",
    "while foundNewMax == True:\n",
    "    i += 1\n",
    "    print(\"\\r\\r\\r Restart count \", i, \" new max_area: \", max_area, \" <===\")\n",
    "    rectangles, foundNewMax, max_area = findRetangles(all_points, rectangles, max_area, primary_poly)\n",
    "\n",
    "print(rectangles)\n",
    "showAllRects(rectangles)"
   ]
  },
  {
   "cell_type": "code",
   "execution_count": 31,
   "metadata": {},
   "outputs": [
    {
     "data": {
      "text/plain": [
       "<Figure size 432x288 with 0 Axes>"
      ]
     },
     "metadata": {},
     "output_type": "display_data"
    },
    {
     "data": {
      "image/png": "[encoded data removed]",
      "text/plain": [
       "<Figure size 720x720 with 1 Axes>"
      ]
     },
     "metadata": {
      "needs_background": "light"
     },
     "output_type": "display_data"
    }
   ],
   "source": [
    "showAllRects(rectangles)"
   ]
  },
  {
   "cell_type": "code",
   "execution_count": 35,
   "metadata": {},
   "outputs": [],
   "source": [
    "# COMBINES RECTANGLES THAT FORMS ANOTHER RETANGLES# COMBINES RECTANGLES THAT FORMS ANOTHER RETANGLES\n",
    "def mergeRectangle(rectangles):\n",
    "    # print(\"accepting\", rectangles)\n",
    "    prev_rects = rectangles.copy()\n",
    "    merged_rects = []\n",
    "    n = 2\n",
    "    possible_combs = chain.from_iterable(combinations(rectangles, i) for i in range(n, len(rectangles)+1))\n",
    "    print(\"total possible \", len(list(possible_combs)))\n",
    "    # new_rectangles = rectangles.copy()\n",
    "    for possibility in possible_combs:\n",
    "        # print(possibility)\n",
    "        rects = []\n",
    "        for box in possibility:\n",
    "            p = Polygon(box)\n",
    "            rects.append(p)\n",
    "        u = unary_union(rects)\n",
    "        if u.area == u.minimum_rotated_rectangle.area and u.area !=0:\n",
    "            # get points of u\n",
    "            # print(u.bounds)\n",
    "            bounds = [  \n",
    "                ( int(u.bounds[0]), int(u.bounds[1]) ),\n",
    "                ( int(u.bounds[2]), int(u.bounds[1]) ), \n",
    "                ( int(u.bounds[2]), int(u.bounds[3]) ), \n",
    "                ( int(u.bounds[0]), int(u.bounds[3]) )\n",
    "            ]\n",
    "            # print(bounds)\n",
    "            merged_rects.append(u)\n",
    "            for box in possibility:\n",
    "                if box in rectangles:\n",
    "                    rectangles.remove(box)\n",
    "                # else:\n",
    "                #     print(\"not found \", box)\n",
    "            rectangles.append(bounds)\n",
    "        elif rects[0].intersection(rects[1]).area > 0:\n",
    "            # print(\"dadadad\")\n",
    "            common_poly = rects[0].intersection(rects[1])\n",
    "            p1 = None\n",
    "            if rects[0].area > rects[1].area:\n",
    "                if possibility[1] in rectangles:\n",
    "                    rectangles.remove(possibility[1])\n",
    "                p1 = rects[1].symmetric_difference(common_poly)\n",
    "            else:\n",
    "                if possibility[0] in rectangles:\n",
    "                    rectangles.remove(possibility[0])\n",
    "                p1 = rects[0].symmetric_difference(common_poly)\n",
    "            if p1.area > 0:\n",
    "                bounds = [  \n",
    "                    ( int(p1.bounds[0]), int(p1.bounds[1]) ),\n",
    "                    ( int(p1.bounds[2]), int(p1.bounds[1]) ), \n",
    "                    ( int(p1.bounds[2]), int(p1.bounds[3]) ), \n",
    "                    ( int(p1.bounds[0]), int(p1.bounds[3]) )\n",
    "                ]\n",
    "            rectangles.append(bounds)\n",
    "                \n",
    "    # print(\"retuning\", rectangles)\n",
    "    return rectangles, prev_rects"
   ]
  },
  {
   "cell_type": "code",
   "execution_count": 38,
   "metadata": {},
   "outputs": [
    {
     "name": "stdout",
     "output_type": "stream",
     "text": [
      "i  1\n",
      "total possible  502\n",
      "total possible  502\n"
     ]
    },
    {
     "data": {
      "text/plain": [
       "<Figure size 432x288 with 0 Axes>"
      ]
     },
     "metadata": {},
     "output_type": "display_data"
    },
    {
     "data": {
      "image/png": "[encoded data removed]",
      "text/plain": [
       "<Figure size 720x720 with 1 Axes>"
      ]
     },
     "metadata": {
      "needs_background": "light"
     },
     "output_type": "display_data"
    }
   ],
   "source": [
    "# COMBININF RECTANGLES\n",
    "prev_rects = rectangles.copy()\n",
    "new_rectangles = []\n",
    "i = 0\n",
    "while new_rectangles != prev_rects:\n",
    "    i+=1\n",
    "    if i > 25:\n",
    "        break\n",
    "    print(\"i \", i)\n",
    "    new_rectangles, prev_rects = mergeRectangle(prev_rects)\n",
    "    prev_rects = new_rectangles\n",
    "new_rectangles, prev_rects = mergeRectangle(prev_rects)\n",
    "showAllRects(new_rectangles)\n",
    "    "
   ]
  },
  {
   "cell_type": "code",
   "execution_count": null,
   "metadata": {},
   "outputs": [],
   "source": [
    "showAllRects(rectangles)"
   ]
  },
  {
   "cell_type": "code",
   "execution_count": null,
   "metadata": {},
   "outputs": [],
   "source": []
  },
  {
   "cell_type": "code",
   "execution_count": null,
   "metadata": {},
   "outputs": [],
   "source": []
  },
  {
   "cell_type": "code",
   "execution_count": null,
   "metadata": {},
   "outputs": [],
   "source": []
  },
  {
   "cell_type": "code",
   "execution_count": 52,
   "metadata": {},
   "outputs": [
    {
     "data": {
      "text/plain": [
       "<Figure size 432x288 with 0 Axes>"
      ]
     },
     "metadata": {},
     "output_type": "display_data"
    },
    {
     "data": {
      "image/png": "[encoded data removed]",
      "text/plain": [
       "<Figure size 720x720 with 1 Axes>"
      ]
     },
     "metadata": {
      "needs_background": "light"
     },
     "output_type": "display_data"
    }
   ],
   "source": [
    "def showboxes(rectangles):\n",
    "    img = np.zeros((6,10,3), np.uint8)\n",
    "    plt.clf()\n",
    "    fig = plt.figure(figsize=(10, 10))\n",
    "    img.fill(255)\n",
    "\n",
    "    # showing outer points\n",
    "    x_values = []\n",
    "    y_values = []\n",
    "    break_at = 4\n",
    "    i = 0\n",
    "    for box in rectangles:\n",
    "        i += 1\n",
    "        if i > break_at:\n",
    "            # break\n",
    "            pass\n",
    "        # draw rectangle\n",
    "\n",
    "        r = lambda: random.randint(120,190)\n",
    "        # print('#%02X%02X%02X' % (r(),r(),r()))\n",
    "        color = str('#%02X%02X%02X' % (r(),r(),r()))\n",
    "        x_values = [box[0][0], box[1][0], box[2][0], box[3][0], box[0][0]]\n",
    "        y_values = [box[0][1], box[1][1], box[2][1], box[3][1], box[0][1]]\n",
    "        plt.plot(x_values, y_values, color=\"#000\", marker=\"o\", linestyle=\"-\")\n",
    "        # plt.imshow(img)\n",
    "        # break\n",
    "\n",
    "    plt.imshow(img)\n",
    "\n",
    "showboxes(rectangles)\n"
   ]
  },
  {
   "cell_type": "code",
   "execution_count": 45,
   "metadata": {},
   "outputs": [
    {
     "data": {
      "text/plain": [
       "<Figure size 432x288 with 0 Axes>"
      ]
     },
     "metadata": {},
     "output_type": "display_data"
    },
    {
     "data": {
      "image/png": "[encoded data removed]",
      "text/plain": [
       "<Figure size 720x720 with 1 Axes>"
      ]
     },
     "metadata": {
      "needs_background": "light"
     },
     "output_type": "display_data"
    }
   ],
   "source": [
    "\n",
    "def showpopints(points, new_points, cut_lines, intersections):\n",
    "    img = np.zeros((6,10,3), np.uint8)\n",
    "    img.fill(255)\n",
    "    plt.clf()\n",
    "    fig = plt.figure(figsize=(10, 10))\n",
    "    \n",
    "    # showing outer points\n",
    "    x_values = []\n",
    "    y_values = []\n",
    "    for index in range(len(new_points)):\n",
    "        x =  new_points[index]\n",
    "        if(index >= len(new_points)-1):\n",
    "            y = new_points[0]\n",
    "        else:\n",
    "            y = new_points[index+1]\n",
    "        x_values = [x[0], y[0]]\n",
    "        y_values = [x[1], y[1]]\n",
    "        plt.plot(x_values, y_values, color=\"#f0f\", marker=\"o\", linestyle=\"-\")\n",
    "    \n",
    "    x_values = []\n",
    "    y_values = []\n",
    "    for index in range(len(points)):\n",
    "        x =  points[index]\n",
    "        if(index >= len(points)-1):\n",
    "            y = points[0]\n",
    "        else:\n",
    "            y = points[index+1]\n",
    "        x_values = [x[0], y[0]]\n",
    "        y_values = [x[1], y[1]]\n",
    "        plt.plot(x_values, y_values, color=\"r\", marker=\"o\", linestyle=\"-\")\n",
    "\n",
    "    # showing intersections of cut lines\n",
    "    x_values = []\n",
    "    y_values = []\n",
    "    for intPoint in intersections:\n",
    "        plt.plot(intPoint[0], intPoint[1], color=\"#00f\", marker=\"o\", linestyle=\"-\")\n",
    "\n",
    "    # showing cut lines\n",
    "    x_values = []\n",
    "    y_values = []\n",
    "    for line in cut_lines:\n",
    "        x_values = [line[0][0], line[1][0]]\n",
    "        y_values = [line[0][1], line[1][1]]\n",
    "        plt.plot(x_values, y_values, color=\"g\", marker=\"\", linestyle=\"-\")\n",
    "    plt.imshow(img)\n",
    "\n",
    "\n",
    "showpopints(points, new_points, cut_lines, intersections)\n",
    "# intersections"
   ]
  },
  {
   "cell_type": "code",
   "execution_count": 34,
   "metadata": {},
   "outputs": [
    {
     "data": {
      "text/plain": [
       "<Figure size 432x288 with 0 Axes>"
      ]
     },
     "metadata": {},
     "output_type": "display_data"
    },
    {
     "data": {
      "image/png": "[encoded data removed]",
      "text/plain": [
       "<Figure size 720x720 with 1 Axes>"
      ]
     },
     "metadata": {
      "needs_background": "light"
     },
     "output_type": "display_data"
    }
   ],
   "source": [
    "\n",
    "showAsImage(new_points, cut_lines, intersections)"
   ]
  },
  {
   "cell_type": "code",
   "execution_count": 53,
   "metadata": {},
   "outputs": [
    {
     "data": {
      "text/plain": [
       "<Figure size 432x288 with 0 Axes>"
      ]
     },
     "metadata": {},
     "output_type": "display_data"
    },
    {
     "data": {
      "image/png": "[encoded data removed]",
      "text/plain": [
       "<Figure size 720x720 with 1 Axes>"
      ]
     },
     "metadata": {
      "needs_background": "light"
     },
     "output_type": "display_data"
    }
   ],
   "source": [
    "showboxes(new_rectangles)"
   ]
  },
  {
   "cell_type": "code",
   "execution_count": null,
   "metadata": {},
   "outputs": [],
   "source": []
  }
 ],
 "metadata": {
  "interpreter": {
   "hash": "916dbcbb3f70747c44a77c7bcd40155683ae19c65e1c03b4aa3499c5328201f1"
  },
  "kernelspec": {
   "display_name": "Python 3.8.10 64-bit",
   "language": "python",
   "name": "python3"
  },
  "language_info": {
   "codemirror_mode": {
    "name": "ipython",
    "version": 3
   },
   "file_extension": ".py",
   "mimetype": "text/x-python",
   "name": "python",
   "nbconvert_exporter": "python",
   "pygments_lexer": "ipython3",
   "version": "3.8.10"
  },
  "orig_nbformat": 4
 },
 "nbformat": 4,
 "nbformat_minor": 2
}
